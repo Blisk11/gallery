{
 "cells": [
  {
   "cell_type": "code",
   "execution_count": 110,
   "metadata": {
    "_cell_guid": "2df621e0-e03c-7aaa-6e08-40ed1d7dfecc",
    "_execution_state": "idle",
    "_uuid": "d581f6797b9fde1580271358d484df67bf6b14a1"
   },
   "outputs": [],
   "source": [
    "import pandas as pd\n",
    "import altair as alt \n",
    "\n",
    "from datapane import Plot, Table, Report\n",
    "from datapane.api import Markdown\n",
    "report = []\n"
   ]
  },
  {
   "cell_type": "code",
   "execution_count": 111,
   "metadata": {
    "_cell_guid": "d56d5e71-4277-7a74-5306-7d5af4c7f263",
    "_execution_state": "idle",
    "_uuid": "827a72128cd211cf6af16b003e7c09951e3f2b1e"
   },
   "outputs": [],
   "source": [
    "df = pd.read_csv('https://raw.githubusercontent.com/leeclemmer/ames_housing/master/input/train.csv')\n",
    "\n",
    "try:\n",
    "    comp_vars = params.comp_vars\n",
    "except:\n",
    "    comp_vars = ['1stFlrSF']\n",
    "    "
   ]
  },
  {
   "cell_type": "code",
   "execution_count": 112,
   "metadata": {},
   "outputs": [],
   "source": [
    "report.append(Table.create(df))"
   ]
  },
  {
   "cell_type": "code",
   "execution_count": 113,
   "metadata": {
    "_cell_guid": "db040973-0adc-e126-e657-1d8934b5a5c8",
    "_execution_state": "idle",
    "_uuid": "91160363898f5caeee965a1aa81eb3abb7dcd760"
   },
   "outputs": [],
   "source": [
    "for c in comp_vars:\n",
    "    p = scatter_GrLivArea = alt.Chart(df).encode(x=c, y='SalePrice', color='Neighborhood:N').mark_point().interactive()\n",
    "    report.append(Markdown(f\"# Plot for {c}\"))\n",
    "    report.append(Plot.create(p))"
   ]
  },
  {
   "cell_type": "code",
   "execution_count": 114,
   "metadata": {
    "scrolled": true
   },
   "outputs": [
    {
     "name": "stdout",
     "output_type": "stream",
     "text": [
      "\u001b[34m18:18:40\u001b[0m [\u001b[32mINFO \u001b[0m] Uploading assets for Report\u001b[0m\n",
      "\u001b[34m18:18:40\u001b[0m [\u001b[32mINFO \u001b[0m] Uploading /var/folders/_x/188lgf3s507dygvl0b1l8rn40000gn/T/datapane-temp-djix5kbe.json.gz\u001b[0m\n",
      "\u001b[34m18:18:42\u001b[0m [\u001b[32mINFO \u001b[0m] Uploading /var/folders/_x/188lgf3s507dygvl0b1l8rn40000gn/T/datapane-temp-cfl_sg2u.vl.json\u001b[0m\n"
     ]
    },
    {
     "data": {
      "text/html": [
       "\n",
       "        <iframe\n",
       "            width=\"600\"\n",
       "            height=\"500\"\n",
       "            src=\"https://datapane.com/reports/E7oZ43x/embed/?accesstoken=6fa9b9d04d6eb7b14f59594546cb444cbde0533c\"\n",
       "            frameborder=\"0\"\n",
       "            allowfullscreen\n",
       "        ></iframe>\n",
       "        "
      ],
      "text/plain": [
       "<IPython.lib.display.IFrame at 0x10c401790>"
      ]
     },
     "execution_count": 114,
     "metadata": {},
     "output_type": "execute_result"
    }
   ],
   "source": [
    "Report.create(*report).preview()\n"
   ]
  },
  {
   "cell_type": "code",
   "execution_count": null,
   "metadata": {},
   "outputs": [],
   "source": []
  },
  {
   "cell_type": "code",
   "execution_count": null,
   "metadata": {},
   "outputs": [],
   "source": []
  },
  {
   "cell_type": "code",
   "execution_count": null,
   "metadata": {},
   "outputs": [],
   "source": []
  },
  {
   "cell_type": "code",
   "execution_count": null,
   "metadata": {},
   "outputs": [],
   "source": []
  }
 ],
 "metadata": {
  "_change_revision": 0,
  "_is_fork": false,
  "kernelspec": {
   "display_name": "Python 3",
   "language": "python",
   "name": "python3"
  },
  "language_info": {
   "codemirror_mode": {
    "name": "ipython",
    "version": 3
   },
   "file_extension": ".py",
   "mimetype": "text/x-python",
   "name": "python",
   "nbconvert_exporter": "python",
   "pygments_lexer": "ipython3",
   "version": "3.8.1"
  }
 },
 "nbformat": 4,
 "nbformat_minor": 1
}
