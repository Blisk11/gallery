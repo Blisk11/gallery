{
 "cells": [
  {
   "cell_type": "code",
   "execution_count": null,
   "metadata": {},
   "outputs": [],
   "source": [
    "import pandas as pd"
   ]
  },
  {
   "cell_type": "code",
   "execution_count": 5,
   "metadata": {},
   "outputs": [
    {
     "name": "stdout",
     "output_type": "stream",
     "text": [
      "[*********************100%***********************]  3 of 3 completed\n",
      "\u001b[34m23:09:54\u001b[0m [\u001b[32mINFO \u001b[0m] Uploading assets for Report\u001b[0m\n",
      "\u001b[34m23:09:55\u001b[0m [\u001b[32mINFO \u001b[0m] Uploading /Users/leo/Code/gallery/stock-reporting/dp-tmp-pbsiac2y/dp-tmp-aj18xiwr.vl.json\u001b[0m\n",
      "\u001b[34m23:09:55\u001b[0m [\u001b[32mINFO \u001b[0m] Uploading /Users/leo/Code/gallery/stock-reporting/dp-tmp-pbsiac2y/dp-tmp-mvacw6g1.arrow\u001b[0m\n",
      "\u001b[34m23:09:57\u001b[0m [\u001b[32mINFO \u001b[0m] Report published to Datapane as https://datapane.com/leo/reports/stock_report_8de8dbd6/\u001b[0m\n"
     ]
    },
    {
     "data": {
      "text/plain": [
       "1"
      ]
     },
     "execution_count": 5,
     "metadata": {},
     "output_type": "execute_result"
    }
   ],
   "source": [
    "import pandas as pd\n",
    "import datapane as dp\n",
    "import altair as alt\n",
    "import yfinance as yf\n",
    "\n",
    "from scipy.stats import zscore\n",
    "\n",
    "# Pull default parameters from our config file.\n",
    "dp.Params.load_defaults('./datapane.yaml')\n",
    "\n",
    "tickers = dp.Params.get('tickers')\n",
    "plot_type = dp.Params.get('plot_type')\n",
    "period = dp.Params.get('period')\n",
    "calc_zscore = dp.Params.get('zscore')\n",
    "data = yf.download(tickers=' '.join(tickers), period=period, groupby='ticker').Close\n",
    "\n",
    "if calc_zscore:\n",
    "    for ticker in tickers:\n",
    "        data[ticker] = zscore(data[ticker])\n",
    "\n",
    "df = data.reset_index().melt('Date', var_name='symbol', value_name='price')\n",
    "\n",
    "base_chart = alt.Chart(df).encode(x='Date:T', y='price:Q', color='symbol').interactive()\n",
    "\n",
    "chart = base_chart.mark_line() if plot_type == 'line' else base_chart.mark_bar()\n",
    " \n",
    "dp.Report(dp.Plot(chart), dp.Table(df)).publish(name=f'stock_report', headline=f'Report on {\" \".join(tickers)}')"
   ]
  },
  {
   "cell_type": "code",
   "execution_count": null,
   "metadata": {},
   "outputs": [],
   "source": []
  },
  {
   "cell_type": "code",
   "execution_count": null,
   "metadata": {},
   "outputs": [],
   "source": []
  },
  {
   "cell_type": "code",
   "execution_count": null,
   "metadata": {},
   "outputs": [],
   "source": []
  },
  {
   "cell_type": "code",
   "execution_count": null,
   "metadata": {},
   "outputs": [],
   "source": []
  }
 ],
 "metadata": {
  "kernelspec": {
   "display_name": "Python 3",
   "language": "python",
   "name": "python3"
  },
  "language_info": {
   "codemirror_mode": {
    "name": "ipython",
    "version": 3
   },
   "file_extension": ".py",
   "mimetype": "text/x-python",
   "name": "python",
   "nbconvert_exporter": "python",
   "pygments_lexer": "ipython3",
   "version": "3.8.1"
  }
 },
 "nbformat": 4,
 "nbformat_minor": 4
}
