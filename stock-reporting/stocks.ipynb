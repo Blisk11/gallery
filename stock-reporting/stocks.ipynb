{
 "cells": [
  {
   "cell_type": "code",
   "execution_count": null,
   "metadata": {},
   "outputs": [],
   "source": [
    "import pandas as pd"
   ]
  },
  {
   "cell_type": "code",
   "execution_count": 128,
   "metadata": {},
   "outputs": [
    {
     "name": "stdout",
     "output_type": "stream",
     "text": [
      "[*********************100%***********************]  3 of 3 completed\n",
      "\u001b[34m18:08:19\u001b[0m [\u001b[32mINFO \u001b[0m] Uploading assets for Report\u001b[0m\n",
      "\u001b[34m18:08:20\u001b[0m [\u001b[32mINFO \u001b[0m] Uploading results_008.vl.json\u001b[0m\n",
      "\u001b[34m18:08:20\u001b[0m [\u001b[32mINFO \u001b[0m] Uploading /var/folders/_x/188lgf3s507dygvl0b1l8rn40000gn/T/datapane-temp-z1_zqt69.arrow\u001b[0m\n"
     ]
    },
    {
     "data": {
      "text/plain": [
       "{'access_token': 'a825c61df97a1d3d7a0cbcd9b2caec74d2153caa',\n",
       " 'archived': False,\n",
       " 'blocks': [{'asset': 'https://datapane.com/api/assets/622/',\n",
       "             'id': 1009,\n",
       "             'ref_id': '4fd4f78f-2780-4e95-b21a-a59e793d86cf',\n",
       "             'type': 'ASSET'},\n",
       "            {'asset': 'https://datapane.com/api/assets/623/',\n",
       "             'id': 1010,\n",
       "             'ref_id': '9806e394-3f64-4855-9033-f86a972ee7fc',\n",
       "             'type': 'ASSET'}],\n",
       " 'children': [],\n",
       " 'description': '',\n",
       " 'embed_url': 'https://datapane.com/reports/nkKKGkR/embed/',\n",
       " 'id': 'nkKKGkR',\n",
       " 'modified_date': '2020-05-10T17:08:19.836138Z',\n",
       " 'owner': 'https://datapane.com/api/users/leo/',\n",
       " 'parent': None,\n",
       " 'private_embed_url': 'https://datapane.com/reports/nkKKGkR/embed/?accesstoken=a825c61df97a1d3d7a0cbcd9b2caec74d2153caa',\n",
       " 'tags': [],\n",
       " 'title': 'Untitled',\n",
       " 'url': 'https://datapane.com/api/reports/nkKKGkR/',\n",
       " 'username': 'leo',\n",
       " 'visibility': 'OWNER_ONLY',\n",
       " 'vote_score': 0,\n",
       " 'web_url': 'https://datapane.com/reports/nkKKGkR/'}"
      ]
     },
     "execution_count": 128,
     "metadata": {},
     "output_type": "execute_result"
    }
   ],
   "source": [
    "import pandas as pd\n",
    "import datapane as dp\n",
    "import altair as alt\n",
    "import yfinance as yf\n",
    "\n",
    "from scipy.stats import zscore\n",
    "\n",
    "# Pull default parameters from our config file.\n",
    "dp.Params.load_defaults('./datapane.yaml')\n",
    "\n",
    "tickers = dp.Params.get('tickers')\n",
    "plot_type = dp.Params.get('plot_type')\n",
    "period = dp.Params.get('period')\n",
    "calc_zscore = dp.Params.get('zscore')\n",
    "\n",
    "data = yf.download(tickers=' '.join(tickers), period=period, groupby='ticker').Close\n",
    "\n",
    "if calc_zscore:\n",
    "    for ticker in tickers:\n",
    "        data[ticker] = zscore(data[ticker])\n",
    "\n",
    "df = data.reset_index().melt('Date', var_name='symbol', value_name='price')\n",
    "\n",
    "base_chart = alt.Chart(df).encode(x='Date:T', y='price:Q', color='symbol').interactive()\n",
    "\n",
    "chart = base_chart.mark_line() if plot_type == 'line' else base_chart.mark_bar()\n",
    "\n",
    "dp.Report.create(dp.Plot.create(chart), dp.Table.create(df))"
   ]
  },
  {
   "cell_type": "code",
   "execution_count": null,
   "metadata": {},
   "outputs": [],
   "source": []
  },
  {
   "cell_type": "code",
   "execution_count": null,
   "metadata": {},
   "outputs": [],
   "source": []
  },
  {
   "cell_type": "code",
   "execution_count": null,
   "metadata": {},
   "outputs": [],
   "source": []
  },
  {
   "cell_type": "code",
   "execution_count": null,
   "metadata": {},
   "outputs": [],
   "source": []
  }
 ],
 "metadata": {
  "kernelspec": {
   "display_name": "Python 3",
   "language": "python",
   "name": "python3"
  },
  "language_info": {
   "codemirror_mode": {
    "name": "ipython",
    "version": 3
   },
   "file_extension": ".py",
   "mimetype": "text/x-python",
   "name": "python",
   "nbconvert_exporter": "python",
   "pygments_lexer": "ipython3",
   "version": "3.8.1"
  }
 },
 "nbformat": 4,
 "nbformat_minor": 4
}
