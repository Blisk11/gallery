{
 "cells": [
  {
   "cell_type": "markdown",
   "metadata": {},
   "source": [
    "# Stock Analysis\n",
    "\n",
    "_By Kaan Şimşek_\n",
    "\n",
    "[![image](https://user-images.githubusercontent.com/3541695/95777534-4708a300-0cbe-11eb-9ac6-4eb1c035ec39.png)](https://datapane.com/kaan/reports/stock_report/)\n",
    "\n",
    "In this report, we will be using Python to pull live stock market and create an interactive report using Plotly and Datapane. You can find an example end-result [here](https://datapane.com/kaan/reports/stock_report/).\n",
    "\n",
    "## Data source\n",
    "\n",
    "Yahoo Finance. Please feel free to choose your own stock tickers to create a custom report.\n"
   ]
  },
  {
   "cell_type": "code",
   "execution_count": null,
   "metadata": {
    "ExecuteTime": {
     "end_time": "2020-10-09T18:30:35.197753Z",
     "start_time": "2020-10-09T18:30:30.030877Z"
    },
    "id": "GIvL82ibpR1O",
    "outputId": "b15450d4-8930-4597-ce3c-3b8553c6f97b"
   },
   "outputs": [],
   "source": [
    "import pandas as pd\n",
    "import numpy as np\n",
    "import plotly.figure_factory as ff\n",
    "import datapane as dp\n",
    "import plotly.offline as py\n",
    "import plotly.graph_objs as go\n",
    "import plotly.express as px\n",
    "import pandas_datareader.data as web\n",
    "import datetime\n",
    "\n",
    "# py.init_notebook_mode(connected=True)\n",
    "\n",
    "import plotly.io as pio\n",
    "pio.templates.default = \"plotly_dark\"\n",
    "\n",
    "start = datetime.datetime(2019, 8, 1)\n",
    "end = datetime.datetime.now()\n",
    "\n",
    "zm = web.DataReader(\"ZM\", 'yahoo', start, end).reset_index()\n",
    "nflx = web.DataReader(\"NFLX\", 'yahoo', start, end).reset_index()\n"
   ]
  },
  {
   "cell_type": "markdown",
   "metadata": {},
   "source": [
    "We'll be creating all of our plots using Plotly, and setting `plotly_dark` gives us a nice consistent theme to use throughout our report. \n",
    "\n",
    "First, let's create our plots."
   ]
  },
  {
   "cell_type": "code",
   "execution_count": null,
   "metadata": {
    "ExecuteTime": {
     "end_time": "2020-10-09T18:30:35.228612Z",
     "start_time": "2020-10-09T18:30:35.199421Z"
    },
    "colab": {
     "base_uri": "https://localhost:8080/",
     "height": 542
    },
    "id": "WLcoJy9upR1R",
    "outputId": "6b0d3ed9-a923-407c-9862-286d9b38fc49"
   },
   "outputs": [],
   "source": [
    "trace0 = go.Scatter(x=nflx.Date, y=nflx.Close, name='nflx')\n",
    "fig0 = go.Figure([trace0])\n",
    "fig0.update_layout(\n",
    "    title={\n",
    "        'text': \"Netflix Stock Price\",\n",
    "        'x':0.5,\n",
    "        'xanchor': 'center'})\n",
    "fig0.show()"
   ]
  },
  {
   "cell_type": "code",
   "execution_count": null,
   "metadata": {
    "ExecuteTime": {
     "end_time": "2020-10-09T18:30:35.280168Z",
     "start_time": "2020-10-09T18:30:35.230745Z"
    },
    "colab": {
     "base_uri": "https://localhost:8080/",
     "height": 542
    },
    "id": "RnG0R6xrpR1U",
    "outputId": "4228576a-651f-4c12-e207-2fcf1b71a214"
   },
   "outputs": [],
   "source": [
    "nflx['10-day MA'] = nflx['Close'].rolling(window=10).mean()\n",
    "nflx['20-day MA'] = nflx['Close'].rolling(window=20).mean()\n",
    "nflx['50-day MA'] = nflx['Close'].rolling(window=50).mean()\n",
    "\n",
    "trace0 = go.Scatter(x=nflx.Date, y=nflx.Close, name='NFLX')\n",
    "trace1 = go.Scatter(x=nflx.Date, y=nflx['10-day MA'], name='10-day MA')\n",
    "trace2 = go.Scatter(x=nflx.Date, y=nflx['20-day MA'], name='20-day MA')\n",
    "fig1 = go.Figure([trace0, trace1, trace2])\n",
    "fig1.update_layout(\n",
    "    title={\n",
    "        'text': \"Netflix Stock Price\",\n",
    "        'x':0.5,\n",
    "        'xanchor': 'center'})\n",
    "fig1.show()"
   ]
  },
  {
   "cell_type": "code",
   "execution_count": null,
   "metadata": {
    "ExecuteTime": {
     "end_time": "2020-10-09T18:30:35.310945Z",
     "start_time": "2020-10-09T18:30:35.281795Z"
    },
    "colab": {
     "base_uri": "https://localhost:8080/",
     "height": 542
    },
    "id": "aDqA5IbBpR1W",
    "outputId": "0ee2e1a5-1d7c-4c99-d8d1-c6cf933be04f"
   },
   "outputs": [],
   "source": [
    "fig2 = go.Figure(go.Candlestick(x=nflx.Date, open=nflx.Open, high=nflx.High, low=nflx.Low, close=nflx.Close))\n",
    "fig2.update_layout(\n",
    "    title={\n",
    "        'text': \"Netflix Stock Price (Candle Stick)\",\n",
    "        'x':0.5,\n",
    "        'xanchor': 'center'})\n",
    "fig2.show()"
   ]
  },
  {
   "cell_type": "code",
   "execution_count": null,
   "metadata": {
    "ExecuteTime": {
     "end_time": "2020-10-09T18:30:35.397895Z",
     "start_time": "2020-10-09T18:30:35.312034Z"
    },
    "colab": {
     "base_uri": "https://localhost:8080/",
     "height": 542
    },
    "id": "fdsmipl3pR1Y",
    "outputId": "b960dfd5-9af3-49ed-e1c7-9c88fb13483e",
    "scrolled": false
   },
   "outputs": [],
   "source": [
    "nflx['Daily return (%)'] = round(nflx['Close'].pct_change()*100, 2)\n",
    "\n",
    "fig3 = px.bar(nflx, x=\"Date\", y=\"Daily return (%)\")\n",
    "fig3.update_layout(\n",
    "    title={\n",
    "        'text': \"Netflix Stock Daily Return\",\n",
    "        'x':0.5,\n",
    "        'xanchor': 'center'})\n",
    "fig3.show()"
   ]
  },
  {
   "cell_type": "code",
   "execution_count": null,
   "metadata": {
    "ExecuteTime": {
     "end_time": "2020-10-09T18:30:35.451108Z",
     "start_time": "2020-10-09T18:30:35.399836Z"
    },
    "colab": {
     "base_uri": "https://localhost:8080/",
     "height": 542
    },
    "id": "OqDeOdOTpR1c",
    "outputId": "0996c250-2fe3-4a73-c344-e750237d7a5a"
   },
   "outputs": [],
   "source": [
    "trace0 = go.Scatter(x=nflx.Date, y=nflx.Close, name='NFLX', line=dict(color='lime'))\n",
    "trace1 = go.Scatter(x=zm.Date, y=zm.Close, name='ZM', line=dict(color='red'))\n",
    "\n",
    "fig4 = go.Figure([trace0, trace1])\n",
    "fig4.update_layout(dict(\n",
    "    title=dict({\n",
    "        'text': \"Netflix vs Zoom Stock Price\",\n",
    "        'x':0.5,\n",
    "        'xanchor': 'center'}),\n",
    "    xaxis=dict(\n",
    "        rangeselector=dict(\n",
    "            buttons=list([\n",
    "                dict(count=1,\n",
    "                     label='1m',\n",
    "                     step='month',\n",
    "                     stepmode='backward'),\n",
    "                dict(count=3,\n",
    "                     label='3m',\n",
    "                     step='month',\n",
    "                     stepmode='backward'),\n",
    "                dict(count=6,\n",
    "                     label='6m',\n",
    "                     step='month',\n",
    "                     stepmode='backward'),\n",
    "                dict(count=12,\n",
    "                     label='12m',\n",
    "                     step='month',\n",
    "                     stepmode='backward')\n",
    "            ])\n",
    "        ),\n",
    "        rangeslider=dict(\n",
    "            visible = True\n",
    "        ),\n",
    "        type='date')))\n",
    "fig4.show()"
   ]
  },
  {
   "cell_type": "code",
   "execution_count": null,
   "metadata": {
    "ExecuteTime": {
     "end_time": "2020-10-09T18:30:35.582554Z",
     "start_time": "2020-10-09T18:30:35.452413Z"
    },
    "colab": {
     "base_uri": "https://localhost:8080/",
     "height": 542
    },
    "id": "aYWtt8GwpR1e",
    "outputId": "f49f9b3a-1ba4-4a15-c70a-7e3c531c776a"
   },
   "outputs": [],
   "source": [
    "trace0 = go.Scatterpolar(\n",
    "      r = [nflx['Close'].mean(),nflx['Open'].min(), nflx['Low'].min(),nflx['High'].max()],\n",
    "      theta = ['Close','Open','Low','High'], line =  dict(\n",
    "            color = 'lime'), name='NFLX',\n",
    "      fill = 'toself')\n",
    "\n",
    "trace1 = go.Scatterpolar(\n",
    "      r = [zm['Close'].mean(),zm['Open'].min(), zm['Low'].min(),zm['High'].max()],\n",
    "      theta = ['Close','Open','Low','High'], line =  dict(\n",
    "            color = 'red'), name='ZM',\n",
    "      fill = 'toself'\n",
    "    )\n",
    "\n",
    "fig5 = go.Figure([trace0,trace1])\n",
    "fig5.update_layout(go.Layout(\n",
    "      polar = dict(\n",
    "        radialaxis = dict(\n",
    "          visible = True)),\n",
    "            title=dict({\n",
    "        'text': \"Netflix vs Zoom Stock Price (Radar Chart)\",\n",
    "        'x':0.5,\n",
    "        'xanchor': 'center'})))\n",
    "fig5.show()"
   ]
  },
  {
   "cell_type": "code",
   "execution_count": null,
   "metadata": {
    "ExecuteTime": {
     "end_time": "2020-10-09T18:30:38.296159Z",
     "start_time": "2020-10-09T18:30:35.584812Z"
    },
    "colab": {
     "base_uri": "https://localhost:8080/",
     "height": 542
    },
    "id": "ISxQ4q-0pR1h",
    "outputId": "d1afbc55-580a-4c97-eee3-c9bbaf671361",
    "scrolled": false
   },
   "outputs": [],
   "source": [
    "df = web.DataReader(['BABA', 'FB', 'AAPL', 'SPOT'], 'yahoo', start, end)['Close']\n",
    "\n",
    "trace0 = go.Box(y=df.BABA, name='BABA', line=dict(color='blue'))\n",
    "trace1 = go.Box(y=df.FB, name='FB', line=dict(color='red'))\n",
    "trace2 = go.Box(y=df.AAPL, name='AAPL', line=dict(color='green'))\n",
    "trace3 = go.Box(y=df.SPOT, name='SPOT', line=dict(color='purple'))\n",
    "\n",
    "fig6 = go.Figure([trace0, trace1, trace2, trace3])\n",
    "fig6.update_layout(\n",
    "    title={\n",
    "        'text': \"Stock Prices\",\n",
    "        'x':0.5,\n",
    "        'xanchor': 'center'})\n",
    "fig6.show()"
   ]
  },
  {
   "cell_type": "code",
   "execution_count": null,
   "metadata": {
    "ExecuteTime": {
     "end_time": "2020-10-09T18:30:38.425678Z",
     "start_time": "2020-10-09T18:30:38.297638Z"
    },
    "colab": {
     "base_uri": "https://localhost:8080/",
     "height": 542
    },
    "id": "I9aBJJEwpR1j",
    "outputId": "51cdf354-0e08-4497-a125-85a5c3913384"
   },
   "outputs": [],
   "source": [
    "fig7 = px.area(df, facet_col=\"Symbols\", facet_col_wrap=2)\n",
    "fig7.update_layout(\n",
    "    title={\n",
    "        'text': \"Stock Prices\",\n",
    "        'x':0.5,\n",
    "        'xanchor': 'center'})\n",
    "fig7.show()"
   ]
  },
  {
   "cell_type": "code",
   "execution_count": null,
   "metadata": {
    "ExecuteTime": {
     "end_time": "2020-10-09T18:30:38.592100Z",
     "start_time": "2020-10-09T18:30:38.427089Z"
    },
    "colab": {
     "base_uri": "https://localhost:8080/",
     "height": 617
    },
    "id": "ftY95ecspR1l",
    "outputId": "1c8d4393-b0f8-41c8-c563-fb10e971cde4"
   },
   "outputs": [],
   "source": [
    "nflx = nflx[['Open','Close','Volume']]\n",
    "nflx[\"index\"] = np.arange(len(nflx))\n",
    "\n",
    "fig8 = go.Figure(ff.create_scatterplotmatrix(nflx, diag='box', index='index',size=3,\n",
    "                               height=600, width=1150, colormap='RdBu',\n",
    "                                   title={\n",
    "                                    'text': \"Netflix Stock Price (Scatterplot Matrix)\",\n",
    "                                    'x':0.5,\n",
    "                                    'xanchor': 'center'}))\n",
    "fig8.show()"
   ]
  },
  {
   "cell_type": "markdown",
   "metadata": {},
   "source": [
    "## Publishing our report\n",
    "\n",
    "Now that we have a series of plots created using Plotly, we can create a report using Datapane. Although we could create a linear list of all plots (similar to how they are displayed in this notebook), we are choosing to use Datapane's [Blocks component](https://docs.datapane.com/tutorials/layout-and-customization#building-grids) to create a grid layout, similar to what you might see in a BI tool. \n"
   ]
  },
  {
   "cell_type": "code",
   "execution_count": null,
   "metadata": {
    "id": "ZiKkrwbMqd4j"
   },
   "outputs": [],
   "source": [
    "dp.Report(\n",
    "    dp.Blocks(\n",
    "        dp.Plot(fig0), \n",
    "        dp.Plot(fig1), \n",
    "        dp.Plot(fig2), \n",
    "        dp.Plot(fig3), \n",
    "        dp.Plot(fig4), \n",
    "        dp.Plot(fig5), \n",
    "        dp.Plot(fig6), \n",
    "        dp.Plot(fig7), \n",
    "        columns=2,\n",
    "        rows=4\n",
    "    ), dp.Plot(fig8)\n",
    ").publish(name='stock_report', open=True)"
   ]
  }
 ],
 "metadata": {
  "hide_input": false,
  "kernelspec": {
   "display_name": "Python 3",
   "language": "python",
   "name": "python3"
  },
  "language_info": {
   "codemirror_mode": {
    "name": "ipython",
    "version": 3
   },
   "file_extension": ".py",
   "mimetype": "text/x-python",
   "name": "python",
   "nbconvert_exporter": "python",
   "pygments_lexer": "ipython3",
   "version": "3.8.1"
  }
 },
 "nbformat": 4,
 "nbformat_minor": 1
}
