{
 "cells": [
  {
   "cell_type": "code",
   "execution_count": null,
   "metadata": {},
   "outputs": [],
   "source": [
    "import pandas as pd"
   ]
  },
  {
   "cell_type": "code",
   "execution_count": 5,
   "metadata": {},
   "outputs": [
    {
     "name": "stdout",
     "output_type": "stream",
     "text": [
      "[*********************100%***********************]  3 of 3 completed\n"
     ]
    },
    {
     "data": {
      "text/html": [
       "\n",
       "        <iframe\n",
       "            width=\"600\"\n",
       "            height=\"500\"\n",
       "            src=\"dp-cache/dp-tmp-0nvmpad6/dp-tmp-ocxqbwqq.html\"\n",
       "            frameborder=\"0\"\n",
       "            allowfullscreen\n",
       "        ></iframe>\n",
       "        "
      ],
      "text/plain": [
       "<IPython.lib.display.IFrame at 0x11e2885b0>"
      ]
     },
     "execution_count": 5,
     "metadata": {},
     "output_type": "execute_result"
    }
   ],
   "source": [
    "import pandas as pd\n",
    "import datapane as dp\n",
    "import altair as alt\n",
    "import yfinance as yf\n",
    "\n",
    "from scipy.stats import zscore\n",
    "\n",
    "# Pull default parameters from our config file.\n",
    "dp.Params.load_defaults('./datapane.yaml')\n",
    "\n",
    "tickers = dp.Params.get('tickers')\n",
    "plot_type = dp.Params.get('plot_type')\n",
    "period = dp.Params.get('period')\n",
    "calc_zscore = dp.Params.get('zscore')\n",
    "data = yf.download(tickers=' '.join(tickers), period=period, groupby='ticker').Close\n",
    "\n",
    "if calc_zscore:\n",
    "    for ticker in tickers:\n",
    "        data[ticker] = zscore(data[ticker])\n",
    "\n",
    "df = data.reset_index().melt('Date', var_name='symbol', value_name='price')\n",
    "\n",
    "base_chart = alt.Chart(df).encode(x='Date:T', y='price:Q', color='symbol').interactive().properties(width='container')\n",
    "\n",
    "chart = base_chart.mark_line(point=True, size=5, opacity=0.5) if plot_type == 'line' else base_chart.mark_bar()\n",
    " \n",
    "dp.Report(dp.Plot(chart), dp.Table(df)).publish(name=f'stock_report', headline=f'Report on {\" \".join(tickers)}')"
   ]
  },
  {
   "cell_type": "code",
   "execution_count": 1,
   "metadata": {},
   "outputs": [
    {
     "ename": "NameError",
     "evalue": "name 'chart' is not defined",
     "output_type": "error",
     "traceback": [
      "\u001b[0;31m---------------------------------------------------------------------------\u001b[0m",
      "\u001b[0;31mNameError\u001b[0m                                 Traceback (most recent call last)",
      "\u001b[0;32m<ipython-input-1-29d9b2dd9809>\u001b[0m in \u001b[0;36m<module>\u001b[0;34m\u001b[0m\n\u001b[0;32m----> 1\u001b[0;31m \u001b[0mchart\u001b[0m\u001b[0;34m\u001b[0m\u001b[0;34m\u001b[0m\u001b[0m\n\u001b[0m",
      "\u001b[0;31mNameError\u001b[0m: name 'chart' is not defined"
     ]
    }
   ],
   "source": []
  },
  {
   "cell_type": "code",
   "execution_count": null,
   "metadata": {},
   "outputs": [],
   "source": []
  },
  {
   "cell_type": "code",
   "execution_count": null,
   "metadata": {},
   "outputs": [],
   "source": []
  },
  {
   "cell_type": "code",
   "execution_count": null,
   "metadata": {},
   "outputs": [],
   "source": []
  }
 ],
 "metadata": {
  "kernelspec": {
   "display_name": "Python 3",
   "language": "python",
   "name": "python3"
  },
  "language_info": {
   "codemirror_mode": {
    "name": "ipython",
    "version": 3
   },
   "file_extension": ".py",
   "mimetype": "text/x-python",
   "name": "python",
   "nbconvert_exporter": "python",
   "pygments_lexer": "ipython3",
   "version": "3.8.1"
  }
 },
 "nbformat": 4,
 "nbformat_minor": 4
}
