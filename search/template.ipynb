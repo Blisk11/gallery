{
 "cells": [
  {
   "cell_type": "code",
   "execution_count": 30,
   "metadata": {},
   "outputs": [
    {
     "name": "stdout",
     "output_type": "stream",
     "text": [
      "\u001b[34m18:17:13\u001b[0m [\u001b[32mINFO \u001b[0m] Uploading assets for Report\u001b[0m\n",
      "\u001b[34m18:17:13\u001b[0m [\u001b[32mINFO \u001b[0m] Uploading /var/folders/_x/188lgf3s507dygvl0b1l8rn40000gn/T/datapane-temp-lnavwdvi.json.gz\u001b[0m\n"
     ]
    },
    {
     "data": {
      "text/html": [
       "\n",
       "        <iframe\n",
       "            width=\"600\"\n",
       "            height=\"500\"\n",
       "            src=\"https://datapane.com/reports/j3LQ47Q/embed/?accesstoken=04636e87374ba607f9a15597323105b8f62d23b4\"\n",
       "            frameborder=\"0\"\n",
       "            allowfullscreen\n",
       "        ></iframe>\n",
       "        "
      ],
      "text/plain": [
       "<IPython.lib.display.IFrame at 0x1125e92b0>"
      ]
     },
     "execution_count": 30,
     "metadata": {},
     "output_type": "execute_result"
    }
   ],
   "source": [
    "import pandas as pd\n",
    "import numpy as np\n",
    "import altair as alt\n",
    "\n",
    "from datapane import Plot, Table, Report\n",
    "from datapane.api import Markdown\n",
    "\n",
    "query = params.get('query', \"Senator\")\n",
    "display_mode = params.get('display_mode', \"View Data\")\n",
    "max_score = params.get('max_votes', 10000)\n",
    "min_score = params.get('min_votes', 0)\n",
    "\n",
    "search_results = pd.read_csv('https://data.hawaii.gov/api/views/eze4-hq7j/rows.csv?accessType=DOWNLOAD')\n",
    "results_f = search_results[search_results['Election_Votes'].between(min_score, max_score)].dropna(subset=['Choice_party'])\n",
    "results_f = results_f[results_f['Contest_title'].str.contains(query)]\n",
    "\n",
    "if len(results_f) == 0:\n",
    "    report = [Markdown(f\"## Results\\n Didn't find any relevant results for {query} :(\")]\n",
    "else:\n",
    "    heading = Markdown(f\"## Results\\n Congratulations! You have {len(results_f)} search results.\")\n",
    "    \n",
    "    alt.data_transformers.disable_max_rows()\n",
    "    plot_base = alt.Chart(results_f).mark_area(\n",
    "        opacity=0.3,\n",
    "        interpolate='step'\n",
    "    ).interactive()\n",
    "    \n",
    "    if display_mode == \"View Data\":\n",
    "        report = [heading, Table.create(results_f)]\n",
    "    elif display_mode == \"Election Votes Plot\":\n",
    "        plot = plot_base.encode(\n",
    "            alt.X('Election_Votes:Q', bin=alt.Bin(maxbins=10)),\n",
    "            alt.Y('count()', stack=None),\n",
    "            alt.Color('Choice_party')\n",
    "        )\n",
    "        report = [heading, Plot.create(plot)]\n",
    "    elif display_mode == \"Absentee Votes Plot\":\n",
    "        plot = plot_base.encode(\n",
    "            alt.X('Absentee_votes:Q', bin=alt.Bin(maxbins=10)),\n",
    "            alt.Y('count()', stack=None),\n",
    "            alt.Color('Choice_party')\n",
    "        )\n",
    "        report = [heading, Plot.create(plot)]\n",
    "    \n",
    "# Report.create(*report).preview()"
   ]
  },
  {
   "cell_type": "code",
   "execution_count": null,
   "metadata": {},
   "outputs": [],
   "source": []
  },
  {
   "cell_type": "code",
   "execution_count": null,
   "metadata": {},
   "outputs": [],
   "source": []
  },
  {
   "cell_type": "code",
   "execution_count": null,
   "metadata": {},
   "outputs": [],
   "source": []
  }
 ],
 "metadata": {
  "kernelspec": {
   "display_name": "Python 3",
   "language": "python",
   "name": "python3"
  },
  "language_info": {
   "codemirror_mode": {
    "name": "ipython",
    "version": 3
   },
   "file_extension": ".py",
   "mimetype": "text/x-python",
   "name": "python",
   "nbconvert_exporter": "python",
   "pygments_lexer": "ipython3",
   "version": "3.8.1"
  }
 },
 "nbformat": 4,
 "nbformat_minor": 4
}
