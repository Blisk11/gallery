{
 "cells": [
  {
   "cell_type": "code",
   "execution_count": 10,
   "metadata": {
    "ExecuteTime": {
     "end_time": "2020-08-17T20:11:59.724501Z",
     "start_time": "2020-08-17T20:11:59.373991Z"
    }
   },
   "outputs": [],
   "source": [
    "import datapane as dp\n",
    "import pandas as pd\n",
    "from pytrends.request import TrendReq\n",
    "import altair as alt\n",
    "\n",
    "pytrends = TrendReq(hl='en-US', tz=360)\n",
    "dp.Params.load_defaults('datapane.yaml')\n",
    "kw_list = dp.Params.get('query', 'dataisbeautiful')"
   ]
  },
  {
   "cell_type": "code",
   "execution_count": 11,
   "metadata": {
    "ExecuteTime": {
     "end_time": "2020-08-17T20:11:59.847198Z",
     "start_time": "2020-08-17T20:11:59.726923Z"
    }
   },
   "outputs": [],
   "source": [
    "pytrends.build_payload([kw_list], cat=0, timeframe='today 5-y', geo='US', gprop='')\n"
   ]
  },
  {
   "cell_type": "code",
   "execution_count": 12,
   "metadata": {
    "ExecuteTime": {
     "end_time": "2020-08-17T20:12:00.270069Z",
     "start_time": "2020-08-17T20:11:59.848959Z"
    }
   },
   "outputs": [],
   "source": [
    "r_o_t = pytrends.interest_over_time().reset_index()\n"
   ]
  },
  {
   "cell_type": "code",
   "execution_count": 13,
   "metadata": {
    "ExecuteTime": {
     "end_time": "2020-08-17T20:12:00.596546Z",
     "start_time": "2020-08-17T20:12:00.271517Z"
    }
   },
   "outputs": [],
   "source": [
    "regions = pytrends.interest_by_region(resolution='REGION', inc_geo_code=True)"
   ]
  },
  {
   "cell_type": "code",
   "execution_count": 14,
   "metadata": {
    "ExecuteTime": {
     "end_time": "2020-08-17T20:12:00.602106Z",
     "start_time": "2020-08-17T20:12:00.597735Z"
    }
   },
   "outputs": [],
   "source": [
    "geo = regions[regions[kw_list] > 0].reset_index()"
   ]
  },
  {
   "cell_type": "code",
   "execution_count": 15,
   "metadata": {
    "ExecuteTime": {
     "end_time": "2020-08-17T20:12:00.627653Z",
     "start_time": "2020-08-17T20:12:00.603143Z"
    }
   },
   "outputs": [
    {
     "data": {
      "text/html": [
       "\n",
       "<div id=\"altair-viz-8dfeaaeea4114502aede0608cca73b76\"></div>\n",
       "<script type=\"text/javascript\">\n",
       "  (function(spec, embedOpt){\n",
       "    let outputDiv = document.currentScript.previousElementSibling;\n",
       "    if (outputDiv.id !== \"altair-viz-8dfeaaeea4114502aede0608cca73b76\") {\n",
       "      outputDiv = document.getElementById(\"altair-viz-8dfeaaeea4114502aede0608cca73b76\");\n",
       "    }\n",
       "    const paths = {\n",
       "      \"vega\": \"https://cdn.jsdelivr.net/npm//vega@5?noext\",\n",
       "      \"vega-lib\": \"https://cdn.jsdelivr.net/npm//vega-lib?noext\",\n",
       "      \"vega-lite\": \"https://cdn.jsdelivr.net/npm//vega-lite@4.8.1?noext\",\n",
       "      \"vega-embed\": \"https://cdn.jsdelivr.net/npm//vega-embed@6?noext\",\n",
       "    };\n",
       "\n",
       "    function loadScript(lib) {\n",
       "      return new Promise(function(resolve, reject) {\n",
       "        var s = document.createElement('script');\n",
       "        s.src = paths[lib];\n",
       "        s.async = true;\n",
       "        s.onload = () => resolve(paths[lib]);\n",
       "        s.onerror = () => reject(`Error loading script: ${paths[lib]}`);\n",
       "        document.getElementsByTagName(\"head\")[0].appendChild(s);\n",
       "      });\n",
       "    }\n",
       "\n",
       "    function showError(err) {\n",
       "      outputDiv.innerHTML = `<div class=\"error\" style=\"color:red;\">${err}</div>`;\n",
       "      throw err;\n",
       "    }\n",
       "\n",
       "    function displayChart(vegaEmbed) {\n",
       "      vegaEmbed(outputDiv, spec, embedOpt)\n",
       "        .catch(err => showError(`Javascript Error: ${err.message}<br>This usually means there's a typo in your chart specification. See the javascript console for the full traceback.`));\n",
       "    }\n",
       "\n",
       "    if(typeof define === \"function\" && define.amd) {\n",
       "      requirejs.config({paths});\n",
       "      require([\"vega-embed\"], displayChart, err => showError(`Error loading script: ${err.message}`));\n",
       "    } else if (typeof vegaEmbed === \"function\") {\n",
       "      displayChart(vegaEmbed);\n",
       "    } else {\n",
       "      loadScript(\"vega\")\n",
       "        .then(() => loadScript(\"vega-lite\"))\n",
       "        .then(() => loadScript(\"vega-embed\"))\n",
       "        .catch(showError)\n",
       "        .then(() => displayChart(vegaEmbed));\n",
       "    }\n",
       "  })({\"config\": {\"view\": {\"continuousWidth\": 400, \"continuousHeight\": 300}}, \"data\": {\"name\": \"data-b42748e6dd5321efcfec97bcfb13c725\"}, \"mark\": {\"type\": \"area\", \"line\": true}, \"encoding\": {\"x\": {\"type\": \"temporal\", \"field\": \"date\"}, \"y\": {\"type\": \"quantitative\", \"field\": \"food\"}}, \"selection\": {\"selector002\": {\"type\": \"interval\", \"bind\": \"scales\", \"encodings\": [\"x\", \"y\"]}}, \"width\": 700, \"$schema\": \"https://vega.github.io/schema/vega-lite/v4.8.1.json\", \"datasets\": {\"data-b42748e6dd5321efcfec97bcfb13c725\": [{\"date\": \"2015-08-23T00:00:00\", \"food\": 60, \"isPartial\": \"False\"}, {\"date\": \"2015-08-30T00:00:00\", \"food\": 61, \"isPartial\": \"False\"}, {\"date\": \"2015-09-06T00:00:00\", \"food\": 60, \"isPartial\": \"False\"}, {\"date\": \"2015-09-13T00:00:00\", \"food\": 60, \"isPartial\": \"False\"}, {\"date\": \"2015-09-20T00:00:00\", \"food\": 59, \"isPartial\": \"False\"}, {\"date\": \"2015-09-27T00:00:00\", \"food\": 60, \"isPartial\": \"False\"}, {\"date\": \"2015-10-04T00:00:00\", \"food\": 60, \"isPartial\": \"False\"}, {\"date\": \"2015-10-11T00:00:00\", \"food\": 60, \"isPartial\": \"False\"}, {\"date\": \"2015-10-18T00:00:00\", \"food\": 59, \"isPartial\": \"False\"}, {\"date\": \"2015-10-25T00:00:00\", \"food\": 59, \"isPartial\": \"False\"}, {\"date\": \"2015-11-01T00:00:00\", \"food\": 61, \"isPartial\": \"False\"}, {\"date\": \"2015-11-08T00:00:00\", \"food\": 61, \"isPartial\": \"False\"}, {\"date\": \"2015-11-15T00:00:00\", \"food\": 61, \"isPartial\": \"False\"}, {\"date\": \"2015-11-22T00:00:00\", \"food\": 61, \"isPartial\": \"False\"}, {\"date\": \"2015-11-29T00:00:00\", \"food\": 56, \"isPartial\": \"False\"}, {\"date\": \"2015-12-06T00:00:00\", \"food\": 59, \"isPartial\": \"False\"}, {\"date\": \"2015-12-13T00:00:00\", \"food\": 58, \"isPartial\": \"False\"}, {\"date\": \"2015-12-20T00:00:00\", \"food\": 63, \"isPartial\": \"False\"}, {\"date\": \"2015-12-27T00:00:00\", \"food\": 63, \"isPartial\": \"False\"}, {\"date\": \"2016-01-03T00:00:00\", \"food\": 63, \"isPartial\": \"False\"}, {\"date\": \"2016-01-10T00:00:00\", \"food\": 60, \"isPartial\": \"False\"}, {\"date\": \"2016-01-17T00:00:00\", \"food\": 61, \"isPartial\": \"False\"}, {\"date\": \"2016-01-24T00:00:00\", \"food\": 62, \"isPartial\": \"False\"}, {\"date\": \"2016-01-31T00:00:00\", \"food\": 64, \"isPartial\": \"False\"}, {\"date\": \"2016-02-07T00:00:00\", \"food\": 63, \"isPartial\": \"False\"}, {\"date\": \"2016-02-14T00:00:00\", \"food\": 63, \"isPartial\": \"False\"}, {\"date\": \"2016-02-21T00:00:00\", \"food\": 63, \"isPartial\": \"False\"}, {\"date\": \"2016-02-28T00:00:00\", \"food\": 64, \"isPartial\": \"False\"}, {\"date\": \"2016-03-06T00:00:00\", \"food\": 64, \"isPartial\": \"False\"}, {\"date\": \"2016-03-13T00:00:00\", \"food\": 65, \"isPartial\": \"False\"}, {\"date\": \"2016-03-20T00:00:00\", \"food\": 67, \"isPartial\": \"False\"}, {\"date\": \"2016-03-27T00:00:00\", \"food\": 66, \"isPartial\": \"False\"}, {\"date\": \"2016-04-03T00:00:00\", \"food\": 65, \"isPartial\": \"False\"}, {\"date\": \"2016-04-10T00:00:00\", \"food\": 66, \"isPartial\": \"False\"}, {\"date\": \"2016-04-17T00:00:00\", \"food\": 66, \"isPartial\": \"False\"}, {\"date\": \"2016-04-24T00:00:00\", \"food\": 65, \"isPartial\": \"False\"}, {\"date\": \"2016-05-01T00:00:00\", \"food\": 69, \"isPartial\": \"False\"}, {\"date\": \"2016-05-08T00:00:00\", \"food\": 69, \"isPartial\": \"False\"}, {\"date\": \"2016-05-15T00:00:00\", \"food\": 69, \"isPartial\": \"False\"}, {\"date\": \"2016-05-22T00:00:00\", \"food\": 68, \"isPartial\": \"False\"}, {\"date\": \"2016-05-29T00:00:00\", \"food\": 68, \"isPartial\": \"False\"}, {\"date\": \"2016-06-05T00:00:00\", \"food\": 67, \"isPartial\": \"False\"}, {\"date\": \"2016-06-12T00:00:00\", \"food\": 65, \"isPartial\": \"False\"}, {\"date\": \"2016-06-19T00:00:00\", \"food\": 66, \"isPartial\": \"False\"}, {\"date\": \"2016-06-26T00:00:00\", \"food\": 68, \"isPartial\": \"False\"}, {\"date\": \"2016-07-03T00:00:00\", \"food\": 69, \"isPartial\": \"False\"}, {\"date\": \"2016-07-10T00:00:00\", \"food\": 67, \"isPartial\": \"False\"}, {\"date\": \"2016-07-17T00:00:00\", \"food\": 68, \"isPartial\": \"False\"}, {\"date\": \"2016-07-24T00:00:00\", \"food\": 68, \"isPartial\": \"False\"}, {\"date\": \"2016-07-31T00:00:00\", \"food\": 68, \"isPartial\": \"False\"}, {\"date\": \"2016-08-07T00:00:00\", \"food\": 63, \"isPartial\": \"False\"}, {\"date\": \"2016-08-14T00:00:00\", \"food\": 64, \"isPartial\": \"False\"}, {\"date\": \"2016-08-21T00:00:00\", \"food\": 66, \"isPartial\": \"False\"}, {\"date\": \"2016-08-28T00:00:00\", \"food\": 67, \"isPartial\": \"False\"}, {\"date\": \"2016-09-04T00:00:00\", \"food\": 68, \"isPartial\": \"False\"}, {\"date\": \"2016-09-11T00:00:00\", \"food\": 67, \"isPartial\": \"False\"}, {\"date\": \"2016-09-18T00:00:00\", \"food\": 66, \"isPartial\": \"False\"}, {\"date\": \"2016-09-25T00:00:00\", \"food\": 67, \"isPartial\": \"False\"}, {\"date\": \"2016-10-02T00:00:00\", \"food\": 66, \"isPartial\": \"False\"}, {\"date\": \"2016-10-09T00:00:00\", \"food\": 67, \"isPartial\": \"False\"}, {\"date\": \"2016-10-16T00:00:00\", \"food\": 67, \"isPartial\": \"False\"}, {\"date\": \"2016-10-23T00:00:00\", \"food\": 70, \"isPartial\": \"False\"}, {\"date\": \"2016-10-30T00:00:00\", \"food\": 68, \"isPartial\": \"False\"}, {\"date\": \"2016-11-06T00:00:00\", \"food\": 65, \"isPartial\": \"False\"}, {\"date\": \"2016-11-13T00:00:00\", \"food\": 71, \"isPartial\": \"False\"}, {\"date\": \"2016-11-20T00:00:00\", \"food\": 70, \"isPartial\": \"False\"}, {\"date\": \"2016-11-27T00:00:00\", \"food\": 66, \"isPartial\": \"False\"}, {\"date\": \"2016-12-04T00:00:00\", \"food\": 67, \"isPartial\": \"False\"}, {\"date\": \"2016-12-11T00:00:00\", \"food\": 69, \"isPartial\": \"False\"}, {\"date\": \"2016-12-18T00:00:00\", \"food\": 71, \"isPartial\": \"False\"}, {\"date\": \"2016-12-25T00:00:00\", \"food\": 82, \"isPartial\": \"False\"}, {\"date\": \"2017-01-01T00:00:00\", \"food\": 71, \"isPartial\": \"False\"}, {\"date\": \"2017-01-08T00:00:00\", \"food\": 67, \"isPartial\": \"False\"}, {\"date\": \"2017-01-15T00:00:00\", \"food\": 67, \"isPartial\": \"False\"}, {\"date\": \"2017-01-22T00:00:00\", \"food\": 67, \"isPartial\": \"False\"}, {\"date\": \"2017-01-29T00:00:00\", \"food\": 70, \"isPartial\": \"False\"}, {\"date\": \"2017-02-05T00:00:00\", \"food\": 67, \"isPartial\": \"False\"}, {\"date\": \"2017-02-12T00:00:00\", \"food\": 67, \"isPartial\": \"False\"}, {\"date\": \"2017-02-19T00:00:00\", \"food\": 69, \"isPartial\": \"False\"}, {\"date\": \"2017-02-26T00:00:00\", \"food\": 70, \"isPartial\": \"False\"}, {\"date\": \"2017-03-05T00:00:00\", \"food\": 71, \"isPartial\": \"False\"}, {\"date\": \"2017-03-12T00:00:00\", \"food\": 72, \"isPartial\": \"False\"}, {\"date\": \"2017-03-19T00:00:00\", \"food\": 71, \"isPartial\": \"False\"}, {\"date\": \"2017-03-26T00:00:00\", \"food\": 72, \"isPartial\": \"False\"}, {\"date\": \"2017-04-02T00:00:00\", \"food\": 72, \"isPartial\": \"False\"}, {\"date\": \"2017-04-09T00:00:00\", \"food\": 74, \"isPartial\": \"False\"}, {\"date\": \"2017-04-16T00:00:00\", \"food\": 73, \"isPartial\": \"False\"}, {\"date\": \"2017-04-23T00:00:00\", \"food\": 73, \"isPartial\": \"False\"}, {\"date\": \"2017-04-30T00:00:00\", \"food\": 75, \"isPartial\": \"False\"}, {\"date\": \"2017-05-07T00:00:00\", \"food\": 75, \"isPartial\": \"False\"}, {\"date\": \"2017-05-14T00:00:00\", \"food\": 73, \"isPartial\": \"False\"}, {\"date\": \"2017-05-21T00:00:00\", \"food\": 75, \"isPartial\": \"False\"}, {\"date\": \"2017-05-28T00:00:00\", \"food\": 76, \"isPartial\": \"False\"}, {\"date\": \"2017-06-04T00:00:00\", \"food\": 75, \"isPartial\": \"False\"}, {\"date\": \"2017-06-11T00:00:00\", \"food\": 75, \"isPartial\": \"False\"}, {\"date\": \"2017-06-18T00:00:00\", \"food\": 75, \"isPartial\": \"False\"}, {\"date\": \"2017-06-25T00:00:00\", \"food\": 77, \"isPartial\": \"False\"}, {\"date\": \"2017-07-02T00:00:00\", \"food\": 81, \"isPartial\": \"False\"}, {\"date\": \"2017-07-09T00:00:00\", \"food\": 78, \"isPartial\": \"False\"}, {\"date\": \"2017-07-16T00:00:00\", \"food\": 79, \"isPartial\": \"False\"}, {\"date\": \"2017-07-23T00:00:00\", \"food\": 78, \"isPartial\": \"False\"}, {\"date\": \"2017-07-30T00:00:00\", \"food\": 77, \"isPartial\": \"False\"}, {\"date\": \"2017-08-06T00:00:00\", \"food\": 77, \"isPartial\": \"False\"}, {\"date\": \"2017-08-13T00:00:00\", \"food\": 74, \"isPartial\": \"False\"}, {\"date\": \"2017-08-20T00:00:00\", \"food\": 71, \"isPartial\": \"False\"}, {\"date\": \"2017-08-27T00:00:00\", \"food\": 74, \"isPartial\": \"False\"}, {\"date\": \"2017-09-03T00:00:00\", \"food\": 73, \"isPartial\": \"False\"}, {\"date\": \"2017-09-10T00:00:00\", \"food\": 73, \"isPartial\": \"False\"}, {\"date\": \"2017-09-17T00:00:00\", \"food\": 74, \"isPartial\": \"False\"}, {\"date\": \"2017-09-24T00:00:00\", \"food\": 75, \"isPartial\": \"False\"}, {\"date\": \"2017-10-01T00:00:00\", \"food\": 74, \"isPartial\": \"False\"}, {\"date\": \"2017-10-08T00:00:00\", \"food\": 77, \"isPartial\": \"False\"}, {\"date\": \"2017-10-15T00:00:00\", \"food\": 77, \"isPartial\": \"False\"}, {\"date\": \"2017-10-22T00:00:00\", \"food\": 75, \"isPartial\": \"False\"}, {\"date\": \"2017-10-29T00:00:00\", \"food\": 75, \"isPartial\": \"False\"}, {\"date\": \"2017-11-05T00:00:00\", \"food\": 76, \"isPartial\": \"False\"}, {\"date\": \"2017-11-12T00:00:00\", \"food\": 75, \"isPartial\": \"False\"}, {\"date\": \"2017-11-19T00:00:00\", \"food\": 76, \"isPartial\": \"False\"}, {\"date\": \"2017-11-26T00:00:00\", \"food\": 70, \"isPartial\": \"False\"}, {\"date\": \"2017-12-03T00:00:00\", \"food\": 74, \"isPartial\": \"False\"}, {\"date\": \"2017-12-10T00:00:00\", \"food\": 72, \"isPartial\": \"False\"}, {\"date\": \"2017-12-17T00:00:00\", \"food\": 76, \"isPartial\": \"False\"}, {\"date\": \"2017-12-24T00:00:00\", \"food\": 82, \"isPartial\": \"False\"}, {\"date\": \"2017-12-31T00:00:00\", \"food\": 78, \"isPartial\": \"False\"}, {\"date\": \"2018-01-07T00:00:00\", \"food\": 74, \"isPartial\": \"False\"}, {\"date\": \"2018-01-14T00:00:00\", \"food\": 74, \"isPartial\": \"False\"}, {\"date\": \"2018-01-21T00:00:00\", \"food\": 74, \"isPartial\": \"False\"}, {\"date\": \"2018-01-28T00:00:00\", \"food\": 76, \"isPartial\": \"False\"}, {\"date\": \"2018-02-04T00:00:00\", \"food\": 74, \"isPartial\": \"False\"}, {\"date\": \"2018-02-11T00:00:00\", \"food\": 79, \"isPartial\": \"False\"}, {\"date\": \"2018-02-18T00:00:00\", \"food\": 77, \"isPartial\": \"False\"}, {\"date\": \"2018-02-25T00:00:00\", \"food\": 77, \"isPartial\": \"False\"}, {\"date\": \"2018-03-04T00:00:00\", \"food\": 79, \"isPartial\": \"False\"}, {\"date\": \"2018-03-11T00:00:00\", \"food\": 79, \"isPartial\": \"False\"}, {\"date\": \"2018-03-18T00:00:00\", \"food\": 79, \"isPartial\": \"False\"}, {\"date\": \"2018-03-25T00:00:00\", \"food\": 81, \"isPartial\": \"False\"}, {\"date\": \"2018-04-01T00:00:00\", \"food\": 80, \"isPartial\": \"False\"}, {\"date\": \"2018-04-08T00:00:00\", \"food\": 79, \"isPartial\": \"False\"}, {\"date\": \"2018-04-15T00:00:00\", \"food\": 79, \"isPartial\": \"False\"}, {\"date\": \"2018-04-22T00:00:00\", \"food\": 80, \"isPartial\": \"False\"}, {\"date\": \"2018-04-29T00:00:00\", \"food\": 81, \"isPartial\": \"False\"}, {\"date\": \"2018-05-06T00:00:00\", \"food\": 81, \"isPartial\": \"False\"}, {\"date\": \"2018-05-13T00:00:00\", \"food\": 79, \"isPartial\": \"False\"}, {\"date\": \"2018-05-20T00:00:00\", \"food\": 80, \"isPartial\": \"False\"}, {\"date\": \"2018-05-27T00:00:00\", \"food\": 82, \"isPartial\": \"False\"}, {\"date\": \"2018-06-03T00:00:00\", \"food\": 83, \"isPartial\": \"False\"}, {\"date\": \"2018-06-10T00:00:00\", \"food\": 83, \"isPartial\": \"False\"}, {\"date\": \"2018-06-17T00:00:00\", \"food\": 81, \"isPartial\": \"False\"}, {\"date\": \"2018-06-24T00:00:00\", \"food\": 86, \"isPartial\": \"False\"}, {\"date\": \"2018-07-01T00:00:00\", \"food\": 89, \"isPartial\": \"False\"}, {\"date\": \"2018-07-08T00:00:00\", \"food\": 87, \"isPartial\": \"False\"}, {\"date\": \"2018-07-15T00:00:00\", \"food\": 86, \"isPartial\": \"False\"}, {\"date\": \"2018-07-22T00:00:00\", \"food\": 87, \"isPartial\": \"False\"}, {\"date\": \"2018-07-29T00:00:00\", \"food\": 87, \"isPartial\": \"False\"}, {\"date\": \"2018-08-05T00:00:00\", \"food\": 88, \"isPartial\": \"False\"}, {\"date\": \"2018-08-12T00:00:00\", \"food\": 84, \"isPartial\": \"False\"}, {\"date\": \"2018-08-19T00:00:00\", \"food\": 83, \"isPartial\": \"False\"}, {\"date\": \"2018-08-26T00:00:00\", \"food\": 81, \"isPartial\": \"False\"}, {\"date\": \"2018-09-02T00:00:00\", \"food\": 81, \"isPartial\": \"False\"}, {\"date\": \"2018-09-09T00:00:00\", \"food\": 78, \"isPartial\": \"False\"}, {\"date\": \"2018-09-16T00:00:00\", \"food\": 81, \"isPartial\": \"False\"}, {\"date\": \"2018-09-23T00:00:00\", \"food\": 80, \"isPartial\": \"False\"}, {\"date\": \"2018-09-30T00:00:00\", \"food\": 81, \"isPartial\": \"False\"}, {\"date\": \"2018-10-07T00:00:00\", \"food\": 80, \"isPartial\": \"False\"}, {\"date\": \"2018-10-14T00:00:00\", \"food\": 81, \"isPartial\": \"False\"}, {\"date\": \"2018-10-21T00:00:00\", \"food\": 78, \"isPartial\": \"False\"}, {\"date\": \"2018-10-28T00:00:00\", \"food\": 81, \"isPartial\": \"False\"}, {\"date\": \"2018-11-04T00:00:00\", \"food\": 80, \"isPartial\": \"False\"}, {\"date\": \"2018-11-11T00:00:00\", \"food\": 83, \"isPartial\": \"False\"}, {\"date\": \"2018-11-18T00:00:00\", \"food\": 83, \"isPartial\": \"False\"}, {\"date\": \"2018-11-25T00:00:00\", \"food\": 76, \"isPartial\": \"False\"}, {\"date\": \"2018-12-02T00:00:00\", \"food\": 83, \"isPartial\": \"False\"}, {\"date\": \"2018-12-09T00:00:00\", \"food\": 80, \"isPartial\": \"False\"}, {\"date\": \"2018-12-16T00:00:00\", \"food\": 81, \"isPartial\": \"False\"}, {\"date\": \"2018-12-23T00:00:00\", \"food\": 95, \"isPartial\": \"False\"}, {\"date\": \"2018-12-30T00:00:00\", \"food\": 91, \"isPartial\": \"False\"}, {\"date\": \"2019-01-06T00:00:00\", \"food\": 82, \"isPartial\": \"False\"}, {\"date\": \"2019-01-13T00:00:00\", \"food\": 87, \"isPartial\": \"False\"}, {\"date\": \"2019-01-20T00:00:00\", \"food\": 84, \"isPartial\": \"False\"}, {\"date\": \"2019-01-27T00:00:00\", \"food\": 82, \"isPartial\": \"False\"}, {\"date\": \"2019-02-03T00:00:00\", \"food\": 82, \"isPartial\": \"False\"}, {\"date\": \"2019-02-10T00:00:00\", \"food\": 83, \"isPartial\": \"False\"}, {\"date\": \"2019-02-17T00:00:00\", \"food\": 85, \"isPartial\": \"False\"}, {\"date\": \"2019-02-24T00:00:00\", \"food\": 83, \"isPartial\": \"False\"}, {\"date\": \"2019-03-03T00:00:00\", \"food\": 85, \"isPartial\": \"False\"}, {\"date\": \"2019-03-10T00:00:00\", \"food\": 84, \"isPartial\": \"False\"}, {\"date\": \"2019-03-17T00:00:00\", \"food\": 87, \"isPartial\": \"False\"}, {\"date\": \"2019-03-24T00:00:00\", \"food\": 87, \"isPartial\": \"False\"}, {\"date\": \"2019-03-31T00:00:00\", \"food\": 86, \"isPartial\": \"False\"}, {\"date\": \"2019-04-07T00:00:00\", \"food\": 85, \"isPartial\": \"False\"}, {\"date\": \"2019-04-14T00:00:00\", \"food\": 88, \"isPartial\": \"False\"}, {\"date\": \"2019-04-21T00:00:00\", \"food\": 87, \"isPartial\": \"False\"}, {\"date\": \"2019-04-28T00:00:00\", \"food\": 88, \"isPartial\": \"False\"}, {\"date\": \"2019-05-05T00:00:00\", \"food\": 90, \"isPartial\": \"False\"}, {\"date\": \"2019-05-12T00:00:00\", \"food\": 89, \"isPartial\": \"False\"}, {\"date\": \"2019-05-19T00:00:00\", \"food\": 91, \"isPartial\": \"False\"}, {\"date\": \"2019-05-26T00:00:00\", \"food\": 90, \"isPartial\": \"False\"}, {\"date\": \"2019-06-02T00:00:00\", \"food\": 90, \"isPartial\": \"False\"}, {\"date\": \"2019-06-09T00:00:00\", \"food\": 91, \"isPartial\": \"False\"}, {\"date\": \"2019-06-16T00:00:00\", \"food\": 93, \"isPartial\": \"False\"}, {\"date\": \"2019-06-23T00:00:00\", \"food\": 96, \"isPartial\": \"False\"}, {\"date\": \"2019-06-30T00:00:00\", \"food\": 100, \"isPartial\": \"False\"}, {\"date\": \"2019-07-07T00:00:00\", \"food\": 94, \"isPartial\": \"False\"}, {\"date\": \"2019-07-14T00:00:00\", \"food\": 94, \"isPartial\": \"False\"}, {\"date\": \"2019-07-21T00:00:00\", \"food\": 96, \"isPartial\": \"False\"}, {\"date\": \"2019-07-28T00:00:00\", \"food\": 93, \"isPartial\": \"False\"}, {\"date\": \"2019-08-04T00:00:00\", \"food\": 91, \"isPartial\": \"False\"}, {\"date\": \"2019-08-11T00:00:00\", \"food\": 94, \"isPartial\": \"False\"}, {\"date\": \"2019-08-18T00:00:00\", \"food\": 91, \"isPartial\": \"False\"}, {\"date\": \"2019-08-25T00:00:00\", \"food\": 88, \"isPartial\": \"False\"}, {\"date\": \"2019-09-01T00:00:00\", \"food\": 86, \"isPartial\": \"False\"}, {\"date\": \"2019-09-08T00:00:00\", \"food\": 84, \"isPartial\": \"False\"}, {\"date\": \"2019-09-15T00:00:00\", \"food\": 85, \"isPartial\": \"False\"}, {\"date\": \"2019-09-22T00:00:00\", \"food\": 85, \"isPartial\": \"False\"}, {\"date\": \"2019-09-29T00:00:00\", \"food\": 87, \"isPartial\": \"False\"}, {\"date\": \"2019-10-06T00:00:00\", \"food\": 86, \"isPartial\": \"False\"}, {\"date\": \"2019-10-13T00:00:00\", \"food\": 88, \"isPartial\": \"False\"}, {\"date\": \"2019-10-20T00:00:00\", \"food\": 87, \"isPartial\": \"False\"}, {\"date\": \"2019-10-27T00:00:00\", \"food\": 84, \"isPartial\": \"False\"}, {\"date\": \"2019-11-03T00:00:00\", \"food\": 87, \"isPartial\": \"False\"}, {\"date\": \"2019-11-10T00:00:00\", \"food\": 87, \"isPartial\": \"False\"}, {\"date\": \"2019-11-17T00:00:00\", \"food\": 87, \"isPartial\": \"False\"}, {\"date\": \"2019-11-24T00:00:00\", \"food\": 89, \"isPartial\": \"False\"}, {\"date\": \"2019-12-01T00:00:00\", \"food\": 80, \"isPartial\": \"False\"}, {\"date\": \"2019-12-08T00:00:00\", \"food\": 82, \"isPartial\": \"False\"}, {\"date\": \"2019-12-15T00:00:00\", \"food\": 83, \"isPartial\": \"False\"}, {\"date\": \"2019-12-22T00:00:00\", \"food\": 100, \"isPartial\": \"False\"}, {\"date\": \"2019-12-29T00:00:00\", \"food\": 95, \"isPartial\": \"False\"}, {\"date\": \"2020-01-05T00:00:00\", \"food\": 85, \"isPartial\": \"False\"}, {\"date\": \"2020-01-12T00:00:00\", \"food\": 84, \"isPartial\": \"False\"}, {\"date\": \"2020-01-19T00:00:00\", \"food\": 87, \"isPartial\": \"False\"}, {\"date\": \"2020-01-26T00:00:00\", \"food\": 86, \"isPartial\": \"False\"}, {\"date\": \"2020-02-02T00:00:00\", \"food\": 82, \"isPartial\": \"False\"}, {\"date\": \"2020-02-09T00:00:00\", \"food\": 87, \"isPartial\": \"False\"}, {\"date\": \"2020-02-16T00:00:00\", \"food\": 89, \"isPartial\": \"False\"}, {\"date\": \"2020-02-23T00:00:00\", \"food\": 90, \"isPartial\": \"False\"}, {\"date\": \"2020-03-01T00:00:00\", \"food\": 87, \"isPartial\": \"False\"}, {\"date\": \"2020-03-08T00:00:00\", \"food\": 88, \"isPartial\": \"False\"}, {\"date\": \"2020-03-15T00:00:00\", \"food\": 89, \"isPartial\": \"False\"}, {\"date\": \"2020-03-22T00:00:00\", \"food\": 84, \"isPartial\": \"False\"}, {\"date\": \"2020-03-29T00:00:00\", \"food\": 87, \"isPartial\": \"False\"}, {\"date\": \"2020-04-05T00:00:00\", \"food\": 90, \"isPartial\": \"False\"}, {\"date\": \"2020-04-12T00:00:00\", \"food\": 91, \"isPartial\": \"False\"}, {\"date\": \"2020-04-19T00:00:00\", \"food\": 87, \"isPartial\": \"False\"}, {\"date\": \"2020-04-26T00:00:00\", \"food\": 88, \"isPartial\": \"False\"}, {\"date\": \"2020-05-03T00:00:00\", \"food\": 89, \"isPartial\": \"False\"}, {\"date\": \"2020-05-10T00:00:00\", \"food\": 87, \"isPartial\": \"False\"}, {\"date\": \"2020-05-17T00:00:00\", \"food\": 87, \"isPartial\": \"False\"}, {\"date\": \"2020-05-24T00:00:00\", \"food\": 86, \"isPartial\": \"False\"}, {\"date\": \"2020-05-31T00:00:00\", \"food\": 86, \"isPartial\": \"False\"}, {\"date\": \"2020-06-07T00:00:00\", \"food\": 88, \"isPartial\": \"False\"}, {\"date\": \"2020-06-14T00:00:00\", \"food\": 92, \"isPartial\": \"False\"}, {\"date\": \"2020-06-21T00:00:00\", \"food\": 91, \"isPartial\": \"False\"}, {\"date\": \"2020-06-28T00:00:00\", \"food\": 92, \"isPartial\": \"False\"}, {\"date\": \"2020-07-05T00:00:00\", \"food\": 89, \"isPartial\": \"False\"}, {\"date\": \"2020-07-12T00:00:00\", \"food\": 91, \"isPartial\": \"False\"}, {\"date\": \"2020-07-19T00:00:00\", \"food\": 97, \"isPartial\": \"False\"}, {\"date\": \"2020-07-26T00:00:00\", \"food\": 96, \"isPartial\": \"False\"}, {\"date\": \"2020-08-02T00:00:00\", \"food\": 95, \"isPartial\": \"False\"}, {\"date\": \"2020-08-09T00:00:00\", \"food\": 91, \"isPartial\": \"True\"}]}}, {\"mode\": \"vega-lite\"});\n",
       "</script>"
      ],
      "text/plain": [
       "alt.Chart(...)"
      ]
     },
     "execution_count": 15,
     "metadata": {},
     "output_type": "execute_result"
    }
   ],
   "source": [
    "r_o_t_plot = alt.Chart(r_o_t).encode(x='date', y=kw_list).mark_area(line=True).interactive().properties(width=700)\n",
    "r_o_t_plot"
   ]
  },
  {
   "cell_type": "code",
   "execution_count": 16,
   "metadata": {
    "ExecuteTime": {
     "end_time": "2020-08-17T20:12:00.765774Z",
     "start_time": "2020-08-17T20:12:00.628802Z"
    }
   },
   "outputs": [
    {
     "data": {
      "text/html": [
       "\n",
       "<div id=\"altair-viz-7b16cd9e87994167b31c3eb0ebc9fe6f\"></div>\n",
       "<script type=\"text/javascript\">\n",
       "  (function(spec, embedOpt){\n",
       "    let outputDiv = document.currentScript.previousElementSibling;\n",
       "    if (outputDiv.id !== \"altair-viz-7b16cd9e87994167b31c3eb0ebc9fe6f\") {\n",
       "      outputDiv = document.getElementById(\"altair-viz-7b16cd9e87994167b31c3eb0ebc9fe6f\");\n",
       "    }\n",
       "    const paths = {\n",
       "      \"vega\": \"https://cdn.jsdelivr.net/npm//vega@5?noext\",\n",
       "      \"vega-lib\": \"https://cdn.jsdelivr.net/npm//vega-lib?noext\",\n",
       "      \"vega-lite\": \"https://cdn.jsdelivr.net/npm//vega-lite@4.8.1?noext\",\n",
       "      \"vega-embed\": \"https://cdn.jsdelivr.net/npm//vega-embed@6?noext\",\n",
       "    };\n",
       "\n",
       "    function loadScript(lib) {\n",
       "      return new Promise(function(resolve, reject) {\n",
       "        var s = document.createElement('script');\n",
       "        s.src = paths[lib];\n",
       "        s.async = true;\n",
       "        s.onload = () => resolve(paths[lib]);\n",
       "        s.onerror = () => reject(`Error loading script: ${paths[lib]}`);\n",
       "        document.getElementsByTagName(\"head\")[0].appendChild(s);\n",
       "      });\n",
       "    }\n",
       "\n",
       "    function showError(err) {\n",
       "      outputDiv.innerHTML = `<div class=\"error\" style=\"color:red;\">${err}</div>`;\n",
       "      throw err;\n",
       "    }\n",
       "\n",
       "    function displayChart(vegaEmbed) {\n",
       "      vegaEmbed(outputDiv, spec, embedOpt)\n",
       "        .catch(err => showError(`Javascript Error: ${err.message}<br>This usually means there's a typo in your chart specification. See the javascript console for the full traceback.`));\n",
       "    }\n",
       "\n",
       "    if(typeof define === \"function\" && define.amd) {\n",
       "      requirejs.config({paths});\n",
       "      require([\"vega-embed\"], displayChart, err => showError(`Error loading script: ${err.message}`));\n",
       "    } else if (typeof vegaEmbed === \"function\") {\n",
       "      displayChart(vegaEmbed);\n",
       "    } else {\n",
       "      loadScript(\"vega\")\n",
       "        .then(() => loadScript(\"vega-lite\"))\n",
       "        .then(() => loadScript(\"vega-embed\"))\n",
       "        .catch(showError)\n",
       "        .then(() => displayChart(vegaEmbed));\n",
       "    }\n",
       "  })({\"config\": {\"view\": {\"continuousWidth\": 400, \"continuousHeight\": 300}}, \"layer\": [{\"mark\": {\"type\": \"geoshape\", \"fill\": \"#eee\", \"stroke\": \"black\"}, \"encoding\": {\"tooltip\": {\"type\": \"nominal\", \"field\": \"state_name\"}}, \"transform\": [{\"lookup\": \"id\", \"from\": {\"data\": {\"name\": \"data-09c573dc311b19e4c0e68b3625b237c5\"}, \"key\": \"fips\", \"fields\": [\"scaled\", \"state_name\"]}}]}, {\"mark\": {\"type\": \"geoshape\", \"fill\": \"#eee\", \"stroke\": \"black\"}, \"encoding\": {\"fill\": {\"type\": \"quantitative\", \"field\": \"scaled\", \"scale\": {\"scheme\": \"lightmulti\"}}, \"tooltip\": {\"type\": \"nominal\", \"field\": \"state_name\"}}, \"height\": 400, \"projection\": {\"type\": \"albersUsa\"}, \"title\": \"Breakdown by state\", \"transform\": [{\"lookup\": \"id\", \"from\": {\"data\": {\"name\": \"data-09c573dc311b19e4c0e68b3625b237c5\"}, \"key\": \"fips\", \"fields\": [\"scaled\", \"state_name\"]}}], \"width\": 650}], \"data\": {\"url\": \"https://vega.github.io/vega-datasets/data/us-10m.json\", \"format\": {\"feature\": \"states\", \"type\": \"topojson\"}}, \"$schema\": \"https://vega.github.io/schema/vega-lite/v4.8.1.json\", \"datasets\": {\"data-09c573dc311b19e4c0e68b3625b237c5\": [{\"geoName\": \"Alabama\", \"geoCode\": \"US-AL\", \"food\": 74, \"state_name\": \"Alabama\", \"state_abbr\": \"AL\", \"long_name\": \"Alabama AL\", \"fips\": 1.0, \"sumlev\": 40.0, \"region\": 3.0, \"division\": 6.0, \"state\": 1.0, \"region_name\": \"South\", \"division_name\": \"East South Central\", \"scaled\": 0.2}, {\"geoName\": \"Alaska\", \"geoCode\": \"US-AK\", \"food\": 73, \"state_name\": \"Alaska\", \"state_abbr\": \"AK\", \"long_name\": \"Alaska AK\", \"fips\": 2.0, \"sumlev\": 40.0, \"region\": 4.0, \"division\": 9.0, \"state\": 2.0, \"region_name\": \"West\", \"division_name\": \"Pacific\", \"scaled\": 0.2}, {\"geoName\": \"Arizona\", \"geoCode\": \"US-AZ\", \"food\": 100, \"state_name\": \"Arizona\", \"state_abbr\": \"AZ\", \"long_name\": \"Arizona AZ\", \"fips\": 4.0, \"sumlev\": 40.0, \"region\": 4.0, \"division\": 8.0, \"state\": 4.0, \"region_name\": \"West\", \"division_name\": \"Mountain\", \"scaled\": 1.0}, {\"geoName\": \"Arkansas\", \"geoCode\": \"US-AR\", \"food\": 74, \"state_name\": \"Arkansas\", \"state_abbr\": \"AR\", \"long_name\": \"Arkansas AR\", \"fips\": 5.0, \"sumlev\": 40.0, \"region\": 3.0, \"division\": 7.0, \"state\": 5.0, \"region_name\": \"South\", \"division_name\": \"West South Central\", \"scaled\": 0.2}, {\"geoName\": \"California\", \"geoCode\": \"US-CA\", \"food\": 87, \"state_name\": \"California\", \"state_abbr\": \"CA\", \"long_name\": \"California CA\", \"fips\": 6.0, \"sumlev\": 40.0, \"region\": 4.0, \"division\": 9.0, \"state\": 6.0, \"region_name\": \"West\", \"division_name\": \"Pacific\", \"scaled\": 0.6}, {\"geoName\": \"Colorado\", \"geoCode\": \"US-CO\", \"food\": 87, \"state_name\": \"Colorado\", \"state_abbr\": \"CO\", \"long_name\": \"Colorado CO\", \"fips\": 8.0, \"sumlev\": 40.0, \"region\": 4.0, \"division\": 8.0, \"state\": 8.0, \"region_name\": \"West\", \"division_name\": \"Mountain\", \"scaled\": 0.6}, {\"geoName\": \"Connecticut\", \"geoCode\": \"US-CT\", \"food\": 76, \"state_name\": \"Connecticut\", \"state_abbr\": \"CT\", \"long_name\": \"Connecticut CT\", \"fips\": 9.0, \"sumlev\": 40.0, \"region\": 1.0, \"division\": 1.0, \"state\": 9.0, \"region_name\": \"Northeast\", \"division_name\": \"New England\", \"scaled\": 0.2}, {\"geoName\": \"Delaware\", \"geoCode\": \"US-DE\", \"food\": 89, \"state_name\": \"Delaware\", \"state_abbr\": \"DE\", \"long_name\": \"Delaware DE\", \"fips\": 10.0, \"sumlev\": 40.0, \"region\": 3.0, \"division\": 5.0, \"state\": 10.0, \"region_name\": \"South\", \"division_name\": \"South Atlantic\", \"scaled\": 0.7}, {\"geoName\": \"District of Columbia\", \"geoCode\": \"US-DC\", \"food\": 87, \"state_name\": null, \"state_abbr\": null, \"long_name\": null, \"fips\": null, \"sumlev\": null, \"region\": null, \"division\": null, \"state\": null, \"region_name\": null, \"division_name\": null, \"scaled\": 0.6}, {\"geoName\": \"Florida\", \"geoCode\": \"US-FL\", \"food\": 82, \"state_name\": \"Florida\", \"state_abbr\": \"FL\", \"long_name\": \"Florida FL\", \"fips\": 12.0, \"sumlev\": 40.0, \"region\": 3.0, \"division\": 5.0, \"state\": 12.0, \"region_name\": \"South\", \"division_name\": \"South Atlantic\", \"scaled\": 0.4}, {\"geoName\": \"Georgia\", \"geoCode\": \"US-GA\", \"food\": 84, \"state_name\": \"Georgia\", \"state_abbr\": \"GA\", \"long_name\": \"Georgia GA\", \"fips\": 13.0, \"sumlev\": 40.0, \"region\": 3.0, \"division\": 5.0, \"state\": 13.0, \"region_name\": \"South\", \"division_name\": \"South Atlantic\", \"scaled\": 0.5}, {\"geoName\": \"Hawaii\", \"geoCode\": \"US-HI\", \"food\": 87, \"state_name\": \"Hawaii\", \"state_abbr\": \"HI\", \"long_name\": \"Hawaii HI\", \"fips\": 15.0, \"sumlev\": 40.0, \"region\": 4.0, \"division\": 9.0, \"state\": 15.0, \"region_name\": \"West\", \"division_name\": \"Pacific\", \"scaled\": 0.6}, {\"geoName\": \"Idaho\", \"geoCode\": \"US-ID\", \"food\": 76, \"state_name\": \"Idaho\", \"state_abbr\": \"ID\", \"long_name\": \"Idaho ID\", \"fips\": 16.0, \"sumlev\": 40.0, \"region\": 4.0, \"division\": 8.0, \"state\": 16.0, \"region_name\": \"West\", \"division_name\": \"Mountain\", \"scaled\": 0.2}, {\"geoName\": \"Illinois\", \"geoCode\": \"US-IL\", \"food\": 78, \"state_name\": \"Illinois\", \"state_abbr\": \"IL\", \"long_name\": \"Illinois IL\", \"fips\": 17.0, \"sumlev\": 40.0, \"region\": 2.0, \"division\": 3.0, \"state\": 17.0, \"region_name\": \"Midwest\", \"division_name\": \"East North Central\", \"scaled\": 0.3}, {\"geoName\": \"Indiana\", \"geoCode\": \"US-IN\", \"food\": 75, \"state_name\": \"Indiana\", \"state_abbr\": \"IN\", \"long_name\": \"Indiana IN\", \"fips\": 18.0, \"sumlev\": 40.0, \"region\": 2.0, \"division\": 3.0, \"state\": 18.0, \"region_name\": \"Midwest\", \"division_name\": \"East North Central\", \"scaled\": 0.2}, {\"geoName\": \"Iowa\", \"geoCode\": \"US-IA\", \"food\": 73, \"state_name\": \"Iowa\", \"state_abbr\": \"IA\", \"long_name\": \"Iowa IA\", \"fips\": 19.0, \"sumlev\": 40.0, \"region\": 2.0, \"division\": 4.0, \"state\": 19.0, \"region_name\": \"Midwest\", \"division_name\": \"West North Central\", \"scaled\": 0.2}, {\"geoName\": \"Kansas\", \"geoCode\": \"US-KS\", \"food\": 69, \"state_name\": \"Kansas\", \"state_abbr\": \"KS\", \"long_name\": \"Kansas KS\", \"fips\": 20.0, \"sumlev\": 40.0, \"region\": 2.0, \"division\": 4.0, \"state\": 20.0, \"region_name\": \"Midwest\", \"division_name\": \"West North Central\", \"scaled\": 0.0}, {\"geoName\": \"Kentucky\", \"geoCode\": \"US-KY\", \"food\": 74, \"state_name\": \"Kentucky\", \"state_abbr\": \"KY\", \"long_name\": \"Kentucky KY\", \"fips\": 21.0, \"sumlev\": 40.0, \"region\": 3.0, \"division\": 6.0, \"state\": 21.0, \"region_name\": \"South\", \"division_name\": \"East South Central\", \"scaled\": 0.2}, {\"geoName\": \"Louisiana\", \"geoCode\": \"US-LA\", \"food\": 84, \"state_name\": \"Louisiana\", \"state_abbr\": \"LA\", \"long_name\": \"Louisiana LA\", \"fips\": 22.0, \"sumlev\": 40.0, \"region\": 3.0, \"division\": 7.0, \"state\": 22.0, \"region_name\": \"South\", \"division_name\": \"West South Central\", \"scaled\": 0.5}, {\"geoName\": \"Maine\", \"geoCode\": \"US-ME\", \"food\": 73, \"state_name\": \"Maine\", \"state_abbr\": \"ME\", \"long_name\": \"Maine ME\", \"fips\": 23.0, \"sumlev\": 40.0, \"region\": 1.0, \"division\": 1.0, \"state\": 23.0, \"region_name\": \"Northeast\", \"division_name\": \"New England\", \"scaled\": 0.2}, {\"geoName\": \"Maryland\", \"geoCode\": \"US-MD\", \"food\": 92, \"state_name\": \"Maryland\", \"state_abbr\": \"MD\", \"long_name\": \"Maryland MD\", \"fips\": 24.0, \"sumlev\": 40.0, \"region\": 3.0, \"division\": 5.0, \"state\": 24.0, \"region_name\": \"South\", \"division_name\": \"South Atlantic\", \"scaled\": 0.8}, {\"geoName\": \"Massachusetts\", \"geoCode\": \"US-MA\", \"food\": 77, \"state_name\": \"Massachusetts\", \"state_abbr\": \"MA\", \"long_name\": \"Massachusetts MA\", \"fips\": 25.0, \"sumlev\": 40.0, \"region\": 1.0, \"division\": 1.0, \"state\": 25.0, \"region_name\": \"Northeast\", \"division_name\": \"New England\", \"scaled\": 0.3}, {\"geoName\": \"Michigan\", \"geoCode\": \"US-MI\", \"food\": 77, \"state_name\": \"Michigan\", \"state_abbr\": \"MI\", \"long_name\": \"Michigan MI\", \"fips\": 26.0, \"sumlev\": 40.0, \"region\": 2.0, \"division\": 3.0, \"state\": 26.0, \"region_name\": \"Midwest\", \"division_name\": \"East North Central\", \"scaled\": 0.3}, {\"geoName\": \"Minnesota\", \"geoCode\": \"US-MN\", \"food\": 76, \"state_name\": \"Minnesota\", \"state_abbr\": \"MN\", \"long_name\": \"Minnesota MN\", \"fips\": 27.0, \"sumlev\": 40.0, \"region\": 2.0, \"division\": 4.0, \"state\": 27.0, \"region_name\": \"Midwest\", \"division_name\": \"West North Central\", \"scaled\": 0.2}, {\"geoName\": \"Mississippi\", \"geoCode\": \"US-MS\", \"food\": 72, \"state_name\": \"Mississippi\", \"state_abbr\": \"MS\", \"long_name\": \"Mississippi MS\", \"fips\": 28.0, \"sumlev\": 40.0, \"region\": 3.0, \"division\": 6.0, \"state\": 28.0, \"region_name\": \"South\", \"division_name\": \"East South Central\", \"scaled\": 0.1}, {\"geoName\": \"Missouri\", \"geoCode\": \"US-MO\", \"food\": 77, \"state_name\": \"Missouri\", \"state_abbr\": \"MO\", \"long_name\": \"Missouri MO\", \"fips\": 29.0, \"sumlev\": 40.0, \"region\": 2.0, \"division\": 4.0, \"state\": 29.0, \"region_name\": \"Midwest\", \"division_name\": \"West North Central\", \"scaled\": 0.3}, {\"geoName\": \"Montana\", \"geoCode\": \"US-MT\", \"food\": 73, \"state_name\": \"Montana\", \"state_abbr\": \"MT\", \"long_name\": \"Montana MT\", \"fips\": 30.0, \"sumlev\": 40.0, \"region\": 4.0, \"division\": 8.0, \"state\": 30.0, \"region_name\": \"West\", \"division_name\": \"Mountain\", \"scaled\": 0.2}, {\"geoName\": \"Nebraska\", \"geoCode\": \"US-NE\", \"food\": 72, \"state_name\": \"Nebraska\", \"state_abbr\": \"NE\", \"long_name\": \"Nebraska NE\", \"fips\": 31.0, \"sumlev\": 40.0, \"region\": 2.0, \"division\": 4.0, \"state\": 31.0, \"region_name\": \"Midwest\", \"division_name\": \"West North Central\", \"scaled\": 0.1}, {\"geoName\": \"Nevada\", \"geoCode\": \"US-NV\", \"food\": 89, \"state_name\": \"Nevada\", \"state_abbr\": \"NV\", \"long_name\": \"Nevada NV\", \"fips\": 32.0, \"sumlev\": 40.0, \"region\": 4.0, \"division\": 8.0, \"state\": 32.0, \"region_name\": \"West\", \"division_name\": \"Mountain\", \"scaled\": 0.7}, {\"geoName\": \"New Hampshire\", \"geoCode\": \"US-NH\", \"food\": 72, \"state_name\": \"New Hampshire\", \"state_abbr\": \"NH\", \"long_name\": \"New Hampshire NH\", \"fips\": 33.0, \"sumlev\": 40.0, \"region\": 1.0, \"division\": 1.0, \"state\": 33.0, \"region_name\": \"Northeast\", \"division_name\": \"New England\", \"scaled\": 0.1}, {\"geoName\": \"New Jersey\", \"geoCode\": \"US-NJ\", \"food\": 79, \"state_name\": \"New Jersey\", \"state_abbr\": \"NJ\", \"long_name\": \"New Jersey NJ\", \"fips\": 34.0, \"sumlev\": 40.0, \"region\": 1.0, \"division\": 2.0, \"state\": 34.0, \"region_name\": \"Northeast\", \"division_name\": \"Middle Atlantic\", \"scaled\": 0.3}, {\"geoName\": \"New Mexico\", \"geoCode\": \"US-NM\", \"food\": 73, \"state_name\": \"New Mexico\", \"state_abbr\": \"NM\", \"long_name\": \"New Mexico NM\", \"fips\": 35.0, \"sumlev\": 40.0, \"region\": 4.0, \"division\": 8.0, \"state\": 35.0, \"region_name\": \"West\", \"division_name\": \"Mountain\", \"scaled\": 0.2}, {\"geoName\": \"New York\", \"geoCode\": \"US-NY\", \"food\": 84, \"state_name\": \"New York\", \"state_abbr\": \"NY\", \"long_name\": \"New York NY\", \"fips\": 36.0, \"sumlev\": 40.0, \"region\": 1.0, \"division\": 2.0, \"state\": 36.0, \"region_name\": \"Northeast\", \"division_name\": \"Middle Atlantic\", \"scaled\": 0.5}, {\"geoName\": \"North Carolina\", \"geoCode\": \"US-NC\", \"food\": 99, \"state_name\": \"North Carolina\", \"state_abbr\": \"NC\", \"long_name\": \"North Carolina NC\", \"fips\": 37.0, \"sumlev\": 40.0, \"region\": 3.0, \"division\": 5.0, \"state\": 37.0, \"region_name\": \"South\", \"division_name\": \"South Atlantic\", \"scaled\": 1.0}, {\"geoName\": \"North Dakota\", \"geoCode\": \"US-ND\", \"food\": 73, \"state_name\": \"North Dakota\", \"state_abbr\": \"ND\", \"long_name\": \"North Dakota ND\", \"fips\": 38.0, \"sumlev\": 40.0, \"region\": 2.0, \"division\": 4.0, \"state\": 38.0, \"region_name\": \"Midwest\", \"division_name\": \"West North Central\", \"scaled\": 0.2}, {\"geoName\": \"Ohio\", \"geoCode\": \"US-OH\", \"food\": 76, \"state_name\": \"Ohio\", \"state_abbr\": \"OH\", \"long_name\": \"Ohio OH\", \"fips\": 39.0, \"sumlev\": 40.0, \"region\": 2.0, \"division\": 3.0, \"state\": 39.0, \"region_name\": \"Midwest\", \"division_name\": \"East North Central\", \"scaled\": 0.2}, {\"geoName\": \"Oklahoma\", \"geoCode\": \"US-OK\", \"food\": 78, \"state_name\": \"Oklahoma\", \"state_abbr\": \"OK\", \"long_name\": \"Oklahoma OK\", \"fips\": 40.0, \"sumlev\": 40.0, \"region\": 3.0, \"division\": 7.0, \"state\": 40.0, \"region_name\": \"South\", \"division_name\": \"West South Central\", \"scaled\": 0.3}, {\"geoName\": \"Oregon\", \"geoCode\": \"US-OR\", \"food\": 92, \"state_name\": \"Oregon\", \"state_abbr\": \"OR\", \"long_name\": \"Oregon OR\", \"fips\": 41.0, \"sumlev\": 40.0, \"region\": 4.0, \"division\": 9.0, \"state\": 41.0, \"region_name\": \"West\", \"division_name\": \"Pacific\", \"scaled\": 0.8}, {\"geoName\": \"Pennsylvania\", \"geoCode\": \"US-PA\", \"food\": 82, \"state_name\": \"Pennsylvania\", \"state_abbr\": \"PA\", \"long_name\": \"Pennsylvania PA\", \"fips\": 42.0, \"sumlev\": 40.0, \"region\": 1.0, \"division\": 2.0, \"state\": 42.0, \"region_name\": \"Northeast\", \"division_name\": \"Middle Atlantic\", \"scaled\": 0.4}, {\"geoName\": \"Rhode Island\", \"geoCode\": \"US-RI\", \"food\": 77, \"state_name\": \"Rhode Island\", \"state_abbr\": \"RI\", \"long_name\": \"Rhode Island RI\", \"fips\": 44.0, \"sumlev\": 40.0, \"region\": 1.0, \"division\": 1.0, \"state\": 44.0, \"region_name\": \"Northeast\", \"division_name\": \"New England\", \"scaled\": 0.3}, {\"geoName\": \"South Carolina\", \"geoCode\": \"US-SC\", \"food\": 85, \"state_name\": \"South Carolina\", \"state_abbr\": \"SC\", \"long_name\": \"South Carolina SC\", \"fips\": 45.0, \"sumlev\": 40.0, \"region\": 3.0, \"division\": 5.0, \"state\": 45.0, \"region_name\": \"South\", \"division_name\": \"South Atlantic\", \"scaled\": 0.5}, {\"geoName\": \"South Dakota\", \"geoCode\": \"US-SD\", \"food\": 71, \"state_name\": \"South Dakota\", \"state_abbr\": \"SD\", \"long_name\": \"South Dakota SD\", \"fips\": 46.0, \"sumlev\": 40.0, \"region\": 2.0, \"division\": 4.0, \"state\": 46.0, \"region_name\": \"Midwest\", \"division_name\": \"West North Central\", \"scaled\": 0.1}, {\"geoName\": \"Tennessee\", \"geoCode\": \"US-TN\", \"food\": 87, \"state_name\": \"Tennessee\", \"state_abbr\": \"TN\", \"long_name\": \"Tennessee TN\", \"fips\": 47.0, \"sumlev\": 40.0, \"region\": 3.0, \"division\": 6.0, \"state\": 47.0, \"region_name\": \"South\", \"division_name\": \"East South Central\", \"scaled\": 0.6}, {\"geoName\": \"Texas\", \"geoCode\": \"US-TX\", \"food\": 78, \"state_name\": \"Texas\", \"state_abbr\": \"TX\", \"long_name\": \"Texas TX\", \"fips\": 48.0, \"sumlev\": 40.0, \"region\": 3.0, \"division\": 7.0, \"state\": 48.0, \"region_name\": \"South\", \"division_name\": \"West South Central\", \"scaled\": 0.3}, {\"geoName\": \"Utah\", \"geoCode\": \"US-UT\", \"food\": 85, \"state_name\": \"Utah\", \"state_abbr\": \"UT\", \"long_name\": \"Utah UT\", \"fips\": 49.0, \"sumlev\": 40.0, \"region\": 4.0, \"division\": 8.0, \"state\": 49.0, \"region_name\": \"West\", \"division_name\": \"Mountain\", \"scaled\": 0.5}, {\"geoName\": \"Vermont\", \"geoCode\": \"US-VT\", \"food\": 78, \"state_name\": \"Vermont\", \"state_abbr\": \"VT\", \"long_name\": \"Vermont VT\", \"fips\": 50.0, \"sumlev\": 40.0, \"region\": 1.0, \"division\": 1.0, \"state\": 50.0, \"region_name\": \"Northeast\", \"division_name\": \"New England\", \"scaled\": 0.3}, {\"geoName\": \"Virginia\", \"geoCode\": \"US-VA\", \"food\": 89, \"state_name\": \"Virginia\", \"state_abbr\": \"VA\", \"long_name\": \"Virginia VA\", \"fips\": 51.0, \"sumlev\": 40.0, \"region\": 3.0, \"division\": 5.0, \"state\": 51.0, \"region_name\": \"South\", \"division_name\": \"South Atlantic\", \"scaled\": 0.7}, {\"geoName\": \"Washington\", \"geoCode\": \"US-WA\", \"food\": 85, \"state_name\": \"Washington\", \"state_abbr\": \"WA\", \"long_name\": \"Washington WA\", \"fips\": 53.0, \"sumlev\": 40.0, \"region\": 4.0, \"division\": 9.0, \"state\": 53.0, \"region_name\": \"West\", \"division_name\": \"Pacific\", \"scaled\": 0.5}, {\"geoName\": \"West Virginia\", \"geoCode\": \"US-WV\", \"food\": 68, \"state_name\": \"West Virginia\", \"state_abbr\": \"WV\", \"long_name\": \"West Virginia WV\", \"fips\": 54.0, \"sumlev\": 40.0, \"region\": 3.0, \"division\": 5.0, \"state\": 54.0, \"region_name\": \"South\", \"division_name\": \"South Atlantic\", \"scaled\": 0.0}, {\"geoName\": \"Wisconsin\", \"geoCode\": \"US-WI\", \"food\": 74, \"state_name\": \"Wisconsin\", \"state_abbr\": \"WI\", \"long_name\": \"Wisconsin WI\", \"fips\": 55.0, \"sumlev\": 40.0, \"region\": 2.0, \"division\": 3.0, \"state\": 55.0, \"region_name\": \"Midwest\", \"division_name\": \"East North Central\", \"scaled\": 0.2}, {\"geoName\": \"Wyoming\", \"geoCode\": \"US-WY\", \"food\": 72, \"state_name\": \"Wyoming\", \"state_abbr\": \"WY\", \"long_name\": \"Wyoming WY\", \"fips\": 56.0, \"sumlev\": 40.0, \"region\": 4.0, \"division\": 8.0, \"state\": 56.0, \"region_name\": \"West\", \"division_name\": \"Mountain\", \"scaled\": 0.1}]}}, {\"mode\": \"vega-lite\"});\n",
       "</script>"
      ],
      "text/plain": [
       "alt.LayerChart(...)"
      ]
     },
     "execution_count": 16,
     "metadata": {},
     "output_type": "execute_result"
    }
   ],
   "source": [
    "import altair as alt\n",
    "from vega_datasets import data\n",
    "\n",
    "states = alt.topo_feature(data.us_10m.url, 'states')\n",
    "state_fips = pd.read_csv('https://raw.githubusercontent.com/kjhealy/fips-codes/master/state_fips_master.csv')\n",
    "geo_query = geo.merge(state_fips, right_on='state_name', left_on='geoName',  how = 'outer')\n",
    "\n",
    "from sklearn.preprocessing import MinMaxScaler\n",
    "scaler = MinMaxScaler()\n",
    "\n",
    "geo_query['scaled'] = scaler.fit_transform(geo_query[kw_list].values.reshape(-1,1)).round(1)\n",
    "# US states background\n",
    "base_map = alt.Chart(states).mark_geoshape(\n",
    "    stroke='black',\n",
    "    fill='#eee',\n",
    ").transform_lookup(\n",
    "    lookup='id',\n",
    "    from_=alt.LookupData(geo_query, 'fips', ['scaled', 'state_name'])\n",
    ").encode(\n",
    "    tooltip='state_name:N'\n",
    ")\n",
    "\n",
    "encoded = base_map.encode(\n",
    "    fill=alt.Color('scaled:Q', scale=alt.Scale(scheme='lightmulti'))\n",
    ").properties(\n",
    "    title='Breakdown by state',\n",
    "    width=650,\n",
    "    height=400\n",
    ").project('albersUsa')\n",
    "\n",
    "map_plot = base_map + encoded \n",
    "map_plot"
   ]
  },
  {
   "cell_type": "code",
   "execution_count": 17,
   "metadata": {
    "ExecuteTime": {
     "end_time": "2020-08-17T20:12:02.219599Z",
     "start_time": "2020-08-17T20:12:00.767106Z"
    }
   },
   "outputs": [
    {
     "name": "stdout",
     "output_type": "stream",
     "text": [
      "Publishing report and associated data - please wait..\n",
      "Report successfully published at https://datapane.com/khuyentran1401/reports/trend_analysis/\n"
     ]
    }
   ],
   "source": [
    "from datapane import Report, Plot, Table, Markdown\n",
    "\n",
    "r = [\n",
    "    Table(geo),\n",
    "    Plot(r_o_t_plot),\n",
    "    Markdown(f\"\"\"\n",
    "# Keyword geography interest\n",
    "\n",
    "We can also query Google Trends to find which states search the most, and plot it on a map.\"\"\"),\n",
    "    Plot(map_plot)\n",
    "]\n",
    "\n",
    "Report(*r).publish(name=f\"trend_analysis\")"
   ]
  },
  {
   "cell_type": "code",
   "execution_count": 18,
   "metadata": {
    "ExecuteTime": {
     "end_time": "2020-08-17T20:12:02.256504Z",
     "start_time": "2020-08-17T20:12:02.224231Z"
    }
   },
   "outputs": [
    {
     "data": {
      "text/html": [
       "\n",
       "<div id=\"altair-viz-44ce337c01b2444793370a2faa36c14c\"></div>\n",
       "<script type=\"text/javascript\">\n",
       "  (function(spec, embedOpt){\n",
       "    let outputDiv = document.currentScript.previousElementSibling;\n",
       "    if (outputDiv.id !== \"altair-viz-44ce337c01b2444793370a2faa36c14c\") {\n",
       "      outputDiv = document.getElementById(\"altair-viz-44ce337c01b2444793370a2faa36c14c\");\n",
       "    }\n",
       "    const paths = {\n",
       "      \"vega\": \"https://cdn.jsdelivr.net/npm//vega@5?noext\",\n",
       "      \"vega-lib\": \"https://cdn.jsdelivr.net/npm//vega-lib?noext\",\n",
       "      \"vega-lite\": \"https://cdn.jsdelivr.net/npm//vega-lite@4.8.1?noext\",\n",
       "      \"vega-embed\": \"https://cdn.jsdelivr.net/npm//vega-embed@6?noext\",\n",
       "    };\n",
       "\n",
       "    function loadScript(lib) {\n",
       "      return new Promise(function(resolve, reject) {\n",
       "        var s = document.createElement('script');\n",
       "        s.src = paths[lib];\n",
       "        s.async = true;\n",
       "        s.onload = () => resolve(paths[lib]);\n",
       "        s.onerror = () => reject(`Error loading script: ${paths[lib]}`);\n",
       "        document.getElementsByTagName(\"head\")[0].appendChild(s);\n",
       "      });\n",
       "    }\n",
       "\n",
       "    function showError(err) {\n",
       "      outputDiv.innerHTML = `<div class=\"error\" style=\"color:red;\">${err}</div>`;\n",
       "      throw err;\n",
       "    }\n",
       "\n",
       "    function displayChart(vegaEmbed) {\n",
       "      vegaEmbed(outputDiv, spec, embedOpt)\n",
       "        .catch(err => showError(`Javascript Error: ${err.message}<br>This usually means there's a typo in your chart specification. See the javascript console for the full traceback.`));\n",
       "    }\n",
       "\n",
       "    if(typeof define === \"function\" && define.amd) {\n",
       "      requirejs.config({paths});\n",
       "      require([\"vega-embed\"], displayChart, err => showError(`Error loading script: ${err.message}`));\n",
       "    } else if (typeof vegaEmbed === \"function\") {\n",
       "      displayChart(vegaEmbed);\n",
       "    } else {\n",
       "      loadScript(\"vega\")\n",
       "        .then(() => loadScript(\"vega-lite\"))\n",
       "        .then(() => loadScript(\"vega-embed\"))\n",
       "        .catch(showError)\n",
       "        .then(() => displayChart(vegaEmbed));\n",
       "    }\n",
       "  })({\"config\": {\"view\": {\"continuousWidth\": 400, \"continuousHeight\": 300}}, \"data\": {\"name\": \"data-b42748e6dd5321efcfec97bcfb13c725\"}, \"mark\": {\"type\": \"area\", \"line\": true}, \"encoding\": {\"x\": {\"type\": \"temporal\", \"field\": \"date\"}, \"y\": {\"type\": \"quantitative\", \"field\": \"food\"}}, \"selection\": {\"selector002\": {\"type\": \"interval\", \"bind\": \"scales\", \"encodings\": [\"x\", \"y\"]}}, \"width\": 700, \"$schema\": \"https://vega.github.io/schema/vega-lite/v4.8.1.json\", \"datasets\": {\"data-b42748e6dd5321efcfec97bcfb13c725\": [{\"date\": \"2015-08-23T00:00:00\", \"food\": 60, \"isPartial\": \"False\"}, {\"date\": \"2015-08-30T00:00:00\", \"food\": 61, \"isPartial\": \"False\"}, {\"date\": \"2015-09-06T00:00:00\", \"food\": 60, \"isPartial\": \"False\"}, {\"date\": \"2015-09-13T00:00:00\", \"food\": 60, \"isPartial\": \"False\"}, {\"date\": \"2015-09-20T00:00:00\", \"food\": 59, \"isPartial\": \"False\"}, {\"date\": \"2015-09-27T00:00:00\", \"food\": 60, \"isPartial\": \"False\"}, {\"date\": \"2015-10-04T00:00:00\", \"food\": 60, \"isPartial\": \"False\"}, {\"date\": \"2015-10-11T00:00:00\", \"food\": 60, \"isPartial\": \"False\"}, {\"date\": \"2015-10-18T00:00:00\", \"food\": 59, \"isPartial\": \"False\"}, {\"date\": \"2015-10-25T00:00:00\", \"food\": 59, \"isPartial\": \"False\"}, {\"date\": \"2015-11-01T00:00:00\", \"food\": 61, \"isPartial\": \"False\"}, {\"date\": \"2015-11-08T00:00:00\", \"food\": 61, \"isPartial\": \"False\"}, {\"date\": \"2015-11-15T00:00:00\", \"food\": 61, \"isPartial\": \"False\"}, {\"date\": \"2015-11-22T00:00:00\", \"food\": 61, \"isPartial\": \"False\"}, {\"date\": \"2015-11-29T00:00:00\", \"food\": 56, \"isPartial\": \"False\"}, {\"date\": \"2015-12-06T00:00:00\", \"food\": 59, \"isPartial\": \"False\"}, {\"date\": \"2015-12-13T00:00:00\", \"food\": 58, \"isPartial\": \"False\"}, {\"date\": \"2015-12-20T00:00:00\", \"food\": 63, \"isPartial\": \"False\"}, {\"date\": \"2015-12-27T00:00:00\", \"food\": 63, \"isPartial\": \"False\"}, {\"date\": \"2016-01-03T00:00:00\", \"food\": 63, \"isPartial\": \"False\"}, {\"date\": \"2016-01-10T00:00:00\", \"food\": 60, \"isPartial\": \"False\"}, {\"date\": \"2016-01-17T00:00:00\", \"food\": 61, \"isPartial\": \"False\"}, {\"date\": \"2016-01-24T00:00:00\", \"food\": 62, \"isPartial\": \"False\"}, {\"date\": \"2016-01-31T00:00:00\", \"food\": 64, \"isPartial\": \"False\"}, {\"date\": \"2016-02-07T00:00:00\", \"food\": 63, \"isPartial\": \"False\"}, {\"date\": \"2016-02-14T00:00:00\", \"food\": 63, \"isPartial\": \"False\"}, {\"date\": \"2016-02-21T00:00:00\", \"food\": 63, \"isPartial\": \"False\"}, {\"date\": \"2016-02-28T00:00:00\", \"food\": 64, \"isPartial\": \"False\"}, {\"date\": \"2016-03-06T00:00:00\", \"food\": 64, \"isPartial\": \"False\"}, {\"date\": \"2016-03-13T00:00:00\", \"food\": 65, \"isPartial\": \"False\"}, {\"date\": \"2016-03-20T00:00:00\", \"food\": 67, \"isPartial\": \"False\"}, {\"date\": \"2016-03-27T00:00:00\", \"food\": 66, \"isPartial\": \"False\"}, {\"date\": \"2016-04-03T00:00:00\", \"food\": 65, \"isPartial\": \"False\"}, {\"date\": \"2016-04-10T00:00:00\", \"food\": 66, \"isPartial\": \"False\"}, {\"date\": \"2016-04-17T00:00:00\", \"food\": 66, \"isPartial\": \"False\"}, {\"date\": \"2016-04-24T00:00:00\", \"food\": 65, \"isPartial\": \"False\"}, {\"date\": \"2016-05-01T00:00:00\", \"food\": 69, \"isPartial\": \"False\"}, {\"date\": \"2016-05-08T00:00:00\", \"food\": 69, \"isPartial\": \"False\"}, {\"date\": \"2016-05-15T00:00:00\", \"food\": 69, \"isPartial\": \"False\"}, {\"date\": \"2016-05-22T00:00:00\", \"food\": 68, \"isPartial\": \"False\"}, {\"date\": \"2016-05-29T00:00:00\", \"food\": 68, \"isPartial\": \"False\"}, {\"date\": \"2016-06-05T00:00:00\", \"food\": 67, \"isPartial\": \"False\"}, {\"date\": \"2016-06-12T00:00:00\", \"food\": 65, \"isPartial\": \"False\"}, {\"date\": \"2016-06-19T00:00:00\", \"food\": 66, \"isPartial\": \"False\"}, {\"date\": \"2016-06-26T00:00:00\", \"food\": 68, \"isPartial\": \"False\"}, {\"date\": \"2016-07-03T00:00:00\", \"food\": 69, \"isPartial\": \"False\"}, {\"date\": \"2016-07-10T00:00:00\", \"food\": 67, \"isPartial\": \"False\"}, {\"date\": \"2016-07-17T00:00:00\", \"food\": 68, \"isPartial\": \"False\"}, {\"date\": \"2016-07-24T00:00:00\", \"food\": 68, \"isPartial\": \"False\"}, {\"date\": \"2016-07-31T00:00:00\", \"food\": 68, \"isPartial\": \"False\"}, {\"date\": \"2016-08-07T00:00:00\", \"food\": 63, \"isPartial\": \"False\"}, {\"date\": \"2016-08-14T00:00:00\", \"food\": 64, \"isPartial\": \"False\"}, {\"date\": \"2016-08-21T00:00:00\", \"food\": 66, \"isPartial\": \"False\"}, {\"date\": \"2016-08-28T00:00:00\", \"food\": 67, \"isPartial\": \"False\"}, {\"date\": \"2016-09-04T00:00:00\", \"food\": 68, \"isPartial\": \"False\"}, {\"date\": \"2016-09-11T00:00:00\", \"food\": 67, \"isPartial\": \"False\"}, {\"date\": \"2016-09-18T00:00:00\", \"food\": 66, \"isPartial\": \"False\"}, {\"date\": \"2016-09-25T00:00:00\", \"food\": 67, \"isPartial\": \"False\"}, {\"date\": \"2016-10-02T00:00:00\", \"food\": 66, \"isPartial\": \"False\"}, {\"date\": \"2016-10-09T00:00:00\", \"food\": 67, \"isPartial\": \"False\"}, {\"date\": \"2016-10-16T00:00:00\", \"food\": 67, \"isPartial\": \"False\"}, {\"date\": \"2016-10-23T00:00:00\", \"food\": 70, \"isPartial\": \"False\"}, {\"date\": \"2016-10-30T00:00:00\", \"food\": 68, \"isPartial\": \"False\"}, {\"date\": \"2016-11-06T00:00:00\", \"food\": 65, \"isPartial\": \"False\"}, {\"date\": \"2016-11-13T00:00:00\", \"food\": 71, \"isPartial\": \"False\"}, {\"date\": \"2016-11-20T00:00:00\", \"food\": 70, \"isPartial\": \"False\"}, {\"date\": \"2016-11-27T00:00:00\", \"food\": 66, \"isPartial\": \"False\"}, {\"date\": \"2016-12-04T00:00:00\", \"food\": 67, \"isPartial\": \"False\"}, {\"date\": \"2016-12-11T00:00:00\", \"food\": 69, \"isPartial\": \"False\"}, {\"date\": \"2016-12-18T00:00:00\", \"food\": 71, \"isPartial\": \"False\"}, {\"date\": \"2016-12-25T00:00:00\", \"food\": 82, \"isPartial\": \"False\"}, {\"date\": \"2017-01-01T00:00:00\", \"food\": 71, \"isPartial\": \"False\"}, {\"date\": \"2017-01-08T00:00:00\", \"food\": 67, \"isPartial\": \"False\"}, {\"date\": \"2017-01-15T00:00:00\", \"food\": 67, \"isPartial\": \"False\"}, {\"date\": \"2017-01-22T00:00:00\", \"food\": 67, \"isPartial\": \"False\"}, {\"date\": \"2017-01-29T00:00:00\", \"food\": 70, \"isPartial\": \"False\"}, {\"date\": \"2017-02-05T00:00:00\", \"food\": 67, \"isPartial\": \"False\"}, {\"date\": \"2017-02-12T00:00:00\", \"food\": 67, \"isPartial\": \"False\"}, {\"date\": \"2017-02-19T00:00:00\", \"food\": 69, \"isPartial\": \"False\"}, {\"date\": \"2017-02-26T00:00:00\", \"food\": 70, \"isPartial\": \"False\"}, {\"date\": \"2017-03-05T00:00:00\", \"food\": 71, \"isPartial\": \"False\"}, {\"date\": \"2017-03-12T00:00:00\", \"food\": 72, \"isPartial\": \"False\"}, {\"date\": \"2017-03-19T00:00:00\", \"food\": 71, \"isPartial\": \"False\"}, {\"date\": \"2017-03-26T00:00:00\", \"food\": 72, \"isPartial\": \"False\"}, {\"date\": \"2017-04-02T00:00:00\", \"food\": 72, \"isPartial\": \"False\"}, {\"date\": \"2017-04-09T00:00:00\", \"food\": 74, \"isPartial\": \"False\"}, {\"date\": \"2017-04-16T00:00:00\", \"food\": 73, \"isPartial\": \"False\"}, {\"date\": \"2017-04-23T00:00:00\", \"food\": 73, \"isPartial\": \"False\"}, {\"date\": \"2017-04-30T00:00:00\", \"food\": 75, \"isPartial\": \"False\"}, {\"date\": \"2017-05-07T00:00:00\", \"food\": 75, \"isPartial\": \"False\"}, {\"date\": \"2017-05-14T00:00:00\", \"food\": 73, \"isPartial\": \"False\"}, {\"date\": \"2017-05-21T00:00:00\", \"food\": 75, \"isPartial\": \"False\"}, {\"date\": \"2017-05-28T00:00:00\", \"food\": 76, \"isPartial\": \"False\"}, {\"date\": \"2017-06-04T00:00:00\", \"food\": 75, \"isPartial\": \"False\"}, {\"date\": \"2017-06-11T00:00:00\", \"food\": 75, \"isPartial\": \"False\"}, {\"date\": \"2017-06-18T00:00:00\", \"food\": 75, \"isPartial\": \"False\"}, {\"date\": \"2017-06-25T00:00:00\", \"food\": 77, \"isPartial\": \"False\"}, {\"date\": \"2017-07-02T00:00:00\", \"food\": 81, \"isPartial\": \"False\"}, {\"date\": \"2017-07-09T00:00:00\", \"food\": 78, \"isPartial\": \"False\"}, {\"date\": \"2017-07-16T00:00:00\", \"food\": 79, \"isPartial\": \"False\"}, {\"date\": \"2017-07-23T00:00:00\", \"food\": 78, \"isPartial\": \"False\"}, {\"date\": \"2017-07-30T00:00:00\", \"food\": 77, \"isPartial\": \"False\"}, {\"date\": \"2017-08-06T00:00:00\", \"food\": 77, \"isPartial\": \"False\"}, {\"date\": \"2017-08-13T00:00:00\", \"food\": 74, \"isPartial\": \"False\"}, {\"date\": \"2017-08-20T00:00:00\", \"food\": 71, \"isPartial\": \"False\"}, {\"date\": \"2017-08-27T00:00:00\", \"food\": 74, \"isPartial\": \"False\"}, {\"date\": \"2017-09-03T00:00:00\", \"food\": 73, \"isPartial\": \"False\"}, {\"date\": \"2017-09-10T00:00:00\", \"food\": 73, \"isPartial\": \"False\"}, {\"date\": \"2017-09-17T00:00:00\", \"food\": 74, \"isPartial\": \"False\"}, {\"date\": \"2017-09-24T00:00:00\", \"food\": 75, \"isPartial\": \"False\"}, {\"date\": \"2017-10-01T00:00:00\", \"food\": 74, \"isPartial\": \"False\"}, {\"date\": \"2017-10-08T00:00:00\", \"food\": 77, \"isPartial\": \"False\"}, {\"date\": \"2017-10-15T00:00:00\", \"food\": 77, \"isPartial\": \"False\"}, {\"date\": \"2017-10-22T00:00:00\", \"food\": 75, \"isPartial\": \"False\"}, {\"date\": \"2017-10-29T00:00:00\", \"food\": 75, \"isPartial\": \"False\"}, {\"date\": \"2017-11-05T00:00:00\", \"food\": 76, \"isPartial\": \"False\"}, {\"date\": \"2017-11-12T00:00:00\", \"food\": 75, \"isPartial\": \"False\"}, {\"date\": \"2017-11-19T00:00:00\", \"food\": 76, \"isPartial\": \"False\"}, {\"date\": \"2017-11-26T00:00:00\", \"food\": 70, \"isPartial\": \"False\"}, {\"date\": \"2017-12-03T00:00:00\", \"food\": 74, \"isPartial\": \"False\"}, {\"date\": \"2017-12-10T00:00:00\", \"food\": 72, \"isPartial\": \"False\"}, {\"date\": \"2017-12-17T00:00:00\", \"food\": 76, \"isPartial\": \"False\"}, {\"date\": \"2017-12-24T00:00:00\", \"food\": 82, \"isPartial\": \"False\"}, {\"date\": \"2017-12-31T00:00:00\", \"food\": 78, \"isPartial\": \"False\"}, {\"date\": \"2018-01-07T00:00:00\", \"food\": 74, \"isPartial\": \"False\"}, {\"date\": \"2018-01-14T00:00:00\", \"food\": 74, \"isPartial\": \"False\"}, {\"date\": \"2018-01-21T00:00:00\", \"food\": 74, \"isPartial\": \"False\"}, {\"date\": \"2018-01-28T00:00:00\", \"food\": 76, \"isPartial\": \"False\"}, {\"date\": \"2018-02-04T00:00:00\", \"food\": 74, \"isPartial\": \"False\"}, {\"date\": \"2018-02-11T00:00:00\", \"food\": 79, \"isPartial\": \"False\"}, {\"date\": \"2018-02-18T00:00:00\", \"food\": 77, \"isPartial\": \"False\"}, {\"date\": \"2018-02-25T00:00:00\", \"food\": 77, \"isPartial\": \"False\"}, {\"date\": \"2018-03-04T00:00:00\", \"food\": 79, \"isPartial\": \"False\"}, {\"date\": \"2018-03-11T00:00:00\", \"food\": 79, \"isPartial\": \"False\"}, {\"date\": \"2018-03-18T00:00:00\", \"food\": 79, \"isPartial\": \"False\"}, {\"date\": \"2018-03-25T00:00:00\", \"food\": 81, \"isPartial\": \"False\"}, {\"date\": \"2018-04-01T00:00:00\", \"food\": 80, \"isPartial\": \"False\"}, {\"date\": \"2018-04-08T00:00:00\", \"food\": 79, \"isPartial\": \"False\"}, {\"date\": \"2018-04-15T00:00:00\", \"food\": 79, \"isPartial\": \"False\"}, {\"date\": \"2018-04-22T00:00:00\", \"food\": 80, \"isPartial\": \"False\"}, {\"date\": \"2018-04-29T00:00:00\", \"food\": 81, \"isPartial\": \"False\"}, {\"date\": \"2018-05-06T00:00:00\", \"food\": 81, \"isPartial\": \"False\"}, {\"date\": \"2018-05-13T00:00:00\", \"food\": 79, \"isPartial\": \"False\"}, {\"date\": \"2018-05-20T00:00:00\", \"food\": 80, \"isPartial\": \"False\"}, {\"date\": \"2018-05-27T00:00:00\", \"food\": 82, \"isPartial\": \"False\"}, {\"date\": \"2018-06-03T00:00:00\", \"food\": 83, \"isPartial\": \"False\"}, {\"date\": \"2018-06-10T00:00:00\", \"food\": 83, \"isPartial\": \"False\"}, {\"date\": \"2018-06-17T00:00:00\", \"food\": 81, \"isPartial\": \"False\"}, {\"date\": \"2018-06-24T00:00:00\", \"food\": 86, \"isPartial\": \"False\"}, {\"date\": \"2018-07-01T00:00:00\", \"food\": 89, \"isPartial\": \"False\"}, {\"date\": \"2018-07-08T00:00:00\", \"food\": 87, \"isPartial\": \"False\"}, {\"date\": \"2018-07-15T00:00:00\", \"food\": 86, \"isPartial\": \"False\"}, {\"date\": \"2018-07-22T00:00:00\", \"food\": 87, \"isPartial\": \"False\"}, {\"date\": \"2018-07-29T00:00:00\", \"food\": 87, \"isPartial\": \"False\"}, {\"date\": \"2018-08-05T00:00:00\", \"food\": 88, \"isPartial\": \"False\"}, {\"date\": \"2018-08-12T00:00:00\", \"food\": 84, \"isPartial\": \"False\"}, {\"date\": \"2018-08-19T00:00:00\", \"food\": 83, \"isPartial\": \"False\"}, {\"date\": \"2018-08-26T00:00:00\", \"food\": 81, \"isPartial\": \"False\"}, {\"date\": \"2018-09-02T00:00:00\", \"food\": 81, \"isPartial\": \"False\"}, {\"date\": \"2018-09-09T00:00:00\", \"food\": 78, \"isPartial\": \"False\"}, {\"date\": \"2018-09-16T00:00:00\", \"food\": 81, \"isPartial\": \"False\"}, {\"date\": \"2018-09-23T00:00:00\", \"food\": 80, \"isPartial\": \"False\"}, {\"date\": \"2018-09-30T00:00:00\", \"food\": 81, \"isPartial\": \"False\"}, {\"date\": \"2018-10-07T00:00:00\", \"food\": 80, \"isPartial\": \"False\"}, {\"date\": \"2018-10-14T00:00:00\", \"food\": 81, \"isPartial\": \"False\"}, {\"date\": \"2018-10-21T00:00:00\", \"food\": 78, \"isPartial\": \"False\"}, {\"date\": \"2018-10-28T00:00:00\", \"food\": 81, \"isPartial\": \"False\"}, {\"date\": \"2018-11-04T00:00:00\", \"food\": 80, \"isPartial\": \"False\"}, {\"date\": \"2018-11-11T00:00:00\", \"food\": 83, \"isPartial\": \"False\"}, {\"date\": \"2018-11-18T00:00:00\", \"food\": 83, \"isPartial\": \"False\"}, {\"date\": \"2018-11-25T00:00:00\", \"food\": 76, \"isPartial\": \"False\"}, {\"date\": \"2018-12-02T00:00:00\", \"food\": 83, \"isPartial\": \"False\"}, {\"date\": \"2018-12-09T00:00:00\", \"food\": 80, \"isPartial\": \"False\"}, {\"date\": \"2018-12-16T00:00:00\", \"food\": 81, \"isPartial\": \"False\"}, {\"date\": \"2018-12-23T00:00:00\", \"food\": 95, \"isPartial\": \"False\"}, {\"date\": \"2018-12-30T00:00:00\", \"food\": 91, \"isPartial\": \"False\"}, {\"date\": \"2019-01-06T00:00:00\", \"food\": 82, \"isPartial\": \"False\"}, {\"date\": \"2019-01-13T00:00:00\", \"food\": 87, \"isPartial\": \"False\"}, {\"date\": \"2019-01-20T00:00:00\", \"food\": 84, \"isPartial\": \"False\"}, {\"date\": \"2019-01-27T00:00:00\", \"food\": 82, \"isPartial\": \"False\"}, {\"date\": \"2019-02-03T00:00:00\", \"food\": 82, \"isPartial\": \"False\"}, {\"date\": \"2019-02-10T00:00:00\", \"food\": 83, \"isPartial\": \"False\"}, {\"date\": \"2019-02-17T00:00:00\", \"food\": 85, \"isPartial\": \"False\"}, {\"date\": \"2019-02-24T00:00:00\", \"food\": 83, \"isPartial\": \"False\"}, {\"date\": \"2019-03-03T00:00:00\", \"food\": 85, \"isPartial\": \"False\"}, {\"date\": \"2019-03-10T00:00:00\", \"food\": 84, \"isPartial\": \"False\"}, {\"date\": \"2019-03-17T00:00:00\", \"food\": 87, \"isPartial\": \"False\"}, {\"date\": \"2019-03-24T00:00:00\", \"food\": 87, \"isPartial\": \"False\"}, {\"date\": \"2019-03-31T00:00:00\", \"food\": 86, \"isPartial\": \"False\"}, {\"date\": \"2019-04-07T00:00:00\", \"food\": 85, \"isPartial\": \"False\"}, {\"date\": \"2019-04-14T00:00:00\", \"food\": 88, \"isPartial\": \"False\"}, {\"date\": \"2019-04-21T00:00:00\", \"food\": 87, \"isPartial\": \"False\"}, {\"date\": \"2019-04-28T00:00:00\", \"food\": 88, \"isPartial\": \"False\"}, {\"date\": \"2019-05-05T00:00:00\", \"food\": 90, \"isPartial\": \"False\"}, {\"date\": \"2019-05-12T00:00:00\", \"food\": 89, \"isPartial\": \"False\"}, {\"date\": \"2019-05-19T00:00:00\", \"food\": 91, \"isPartial\": \"False\"}, {\"date\": \"2019-05-26T00:00:00\", \"food\": 90, \"isPartial\": \"False\"}, {\"date\": \"2019-06-02T00:00:00\", \"food\": 90, \"isPartial\": \"False\"}, {\"date\": \"2019-06-09T00:00:00\", \"food\": 91, \"isPartial\": \"False\"}, {\"date\": \"2019-06-16T00:00:00\", \"food\": 93, \"isPartial\": \"False\"}, {\"date\": \"2019-06-23T00:00:00\", \"food\": 96, \"isPartial\": \"False\"}, {\"date\": \"2019-06-30T00:00:00\", \"food\": 100, \"isPartial\": \"False\"}, {\"date\": \"2019-07-07T00:00:00\", \"food\": 94, \"isPartial\": \"False\"}, {\"date\": \"2019-07-14T00:00:00\", \"food\": 94, \"isPartial\": \"False\"}, {\"date\": \"2019-07-21T00:00:00\", \"food\": 96, \"isPartial\": \"False\"}, {\"date\": \"2019-07-28T00:00:00\", \"food\": 93, \"isPartial\": \"False\"}, {\"date\": \"2019-08-04T00:00:00\", \"food\": 91, \"isPartial\": \"False\"}, {\"date\": \"2019-08-11T00:00:00\", \"food\": 94, \"isPartial\": \"False\"}, {\"date\": \"2019-08-18T00:00:00\", \"food\": 91, \"isPartial\": \"False\"}, {\"date\": \"2019-08-25T00:00:00\", \"food\": 88, \"isPartial\": \"False\"}, {\"date\": \"2019-09-01T00:00:00\", \"food\": 86, \"isPartial\": \"False\"}, {\"date\": \"2019-09-08T00:00:00\", \"food\": 84, \"isPartial\": \"False\"}, {\"date\": \"2019-09-15T00:00:00\", \"food\": 85, \"isPartial\": \"False\"}, {\"date\": \"2019-09-22T00:00:00\", \"food\": 85, \"isPartial\": \"False\"}, {\"date\": \"2019-09-29T00:00:00\", \"food\": 87, \"isPartial\": \"False\"}, {\"date\": \"2019-10-06T00:00:00\", \"food\": 86, \"isPartial\": \"False\"}, {\"date\": \"2019-10-13T00:00:00\", \"food\": 88, \"isPartial\": \"False\"}, {\"date\": \"2019-10-20T00:00:00\", \"food\": 87, \"isPartial\": \"False\"}, {\"date\": \"2019-10-27T00:00:00\", \"food\": 84, \"isPartial\": \"False\"}, {\"date\": \"2019-11-03T00:00:00\", \"food\": 87, \"isPartial\": \"False\"}, {\"date\": \"2019-11-10T00:00:00\", \"food\": 87, \"isPartial\": \"False\"}, {\"date\": \"2019-11-17T00:00:00\", \"food\": 87, \"isPartial\": \"False\"}, {\"date\": \"2019-11-24T00:00:00\", \"food\": 89, \"isPartial\": \"False\"}, {\"date\": \"2019-12-01T00:00:00\", \"food\": 80, \"isPartial\": \"False\"}, {\"date\": \"2019-12-08T00:00:00\", \"food\": 82, \"isPartial\": \"False\"}, {\"date\": \"2019-12-15T00:00:00\", \"food\": 83, \"isPartial\": \"False\"}, {\"date\": \"2019-12-22T00:00:00\", \"food\": 100, \"isPartial\": \"False\"}, {\"date\": \"2019-12-29T00:00:00\", \"food\": 95, \"isPartial\": \"False\"}, {\"date\": \"2020-01-05T00:00:00\", \"food\": 85, \"isPartial\": \"False\"}, {\"date\": \"2020-01-12T00:00:00\", \"food\": 84, \"isPartial\": \"False\"}, {\"date\": \"2020-01-19T00:00:00\", \"food\": 87, \"isPartial\": \"False\"}, {\"date\": \"2020-01-26T00:00:00\", \"food\": 86, \"isPartial\": \"False\"}, {\"date\": \"2020-02-02T00:00:00\", \"food\": 82, \"isPartial\": \"False\"}, {\"date\": \"2020-02-09T00:00:00\", \"food\": 87, \"isPartial\": \"False\"}, {\"date\": \"2020-02-16T00:00:00\", \"food\": 89, \"isPartial\": \"False\"}, {\"date\": \"2020-02-23T00:00:00\", \"food\": 90, \"isPartial\": \"False\"}, {\"date\": \"2020-03-01T00:00:00\", \"food\": 87, \"isPartial\": \"False\"}, {\"date\": \"2020-03-08T00:00:00\", \"food\": 88, \"isPartial\": \"False\"}, {\"date\": \"2020-03-15T00:00:00\", \"food\": 89, \"isPartial\": \"False\"}, {\"date\": \"2020-03-22T00:00:00\", \"food\": 84, \"isPartial\": \"False\"}, {\"date\": \"2020-03-29T00:00:00\", \"food\": 87, \"isPartial\": \"False\"}, {\"date\": \"2020-04-05T00:00:00\", \"food\": 90, \"isPartial\": \"False\"}, {\"date\": \"2020-04-12T00:00:00\", \"food\": 91, \"isPartial\": \"False\"}, {\"date\": \"2020-04-19T00:00:00\", \"food\": 87, \"isPartial\": \"False\"}, {\"date\": \"2020-04-26T00:00:00\", \"food\": 88, \"isPartial\": \"False\"}, {\"date\": \"2020-05-03T00:00:00\", \"food\": 89, \"isPartial\": \"False\"}, {\"date\": \"2020-05-10T00:00:00\", \"food\": 87, \"isPartial\": \"False\"}, {\"date\": \"2020-05-17T00:00:00\", \"food\": 87, \"isPartial\": \"False\"}, {\"date\": \"2020-05-24T00:00:00\", \"food\": 86, \"isPartial\": \"False\"}, {\"date\": \"2020-05-31T00:00:00\", \"food\": 86, \"isPartial\": \"False\"}, {\"date\": \"2020-06-07T00:00:00\", \"food\": 88, \"isPartial\": \"False\"}, {\"date\": \"2020-06-14T00:00:00\", \"food\": 92, \"isPartial\": \"False\"}, {\"date\": \"2020-06-21T00:00:00\", \"food\": 91, \"isPartial\": \"False\"}, {\"date\": \"2020-06-28T00:00:00\", \"food\": 92, \"isPartial\": \"False\"}, {\"date\": \"2020-07-05T00:00:00\", \"food\": 89, \"isPartial\": \"False\"}, {\"date\": \"2020-07-12T00:00:00\", \"food\": 91, \"isPartial\": \"False\"}, {\"date\": \"2020-07-19T00:00:00\", \"food\": 97, \"isPartial\": \"False\"}, {\"date\": \"2020-07-26T00:00:00\", \"food\": 96, \"isPartial\": \"False\"}, {\"date\": \"2020-08-02T00:00:00\", \"food\": 95, \"isPartial\": \"False\"}, {\"date\": \"2020-08-09T00:00:00\", \"food\": 91, \"isPartial\": \"True\"}]}}, {\"mode\": \"vega-lite\"});\n",
       "</script>"
      ],
      "text/plain": [
       "alt.Chart(...)"
      ]
     },
     "execution_count": 18,
     "metadata": {},
     "output_type": "execute_result"
    }
   ],
   "source": [
    "r_o_t_plot"
   ]
  },
  {
   "cell_type": "code",
   "execution_count": null,
   "metadata": {},
   "outputs": [],
   "source": []
  },
  {
   "cell_type": "code",
   "execution_count": null,
   "metadata": {},
   "outputs": [],
   "source": []
  },
  {
   "cell_type": "code",
   "execution_count": null,
   "metadata": {},
   "outputs": [],
   "source": []
  },
  {
   "cell_type": "code",
   "execution_count": null,
   "metadata": {},
   "outputs": [],
   "source": []
  }
 ],
 "metadata": {
  "kernelspec": {
   "display_name": "Python 3",
   "language": "python",
   "name": "python3"
  },
  "language_info": {
   "codemirror_mode": {
    "name": "ipython",
    "version": 3
   },
   "file_extension": ".py",
   "mimetype": "text/x-python",
   "name": "python",
   "nbconvert_exporter": "python",
   "pygments_lexer": "ipython3",
   "version": "3.8.3"
  },
  "latex_envs": {
   "LaTeX_envs_menu_present": true,
   "autoclose": false,
   "autocomplete": true,
   "bibliofile": "biblio.bib",
   "cite_by": "apalike",
   "current_citInitial": 1,
   "eqLabelWithNumbers": true,
   "eqNumInitial": 1,
   "hotkeys": {
    "equation": "Ctrl-E",
    "itemize": "Ctrl-I"
   },
   "labels_anchors": false,
   "latex_user_defs": false,
   "report_style_numbering": false,
   "user_envs_cfg": false
  },
  "toc": {
   "base_numbering": 1,
   "nav_menu": {},
   "number_sections": true,
   "sideBar": true,
   "skip_h1_title": false,
   "title_cell": "Table of Contents",
   "title_sidebar": "Contents",
   "toc_cell": false,
   "toc_position": {},
   "toc_section_display": true,
   "toc_window_display": false
  }
 },
 "nbformat": 4,
 "nbformat_minor": 4
}
